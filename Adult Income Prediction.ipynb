{
 "cells": [
  {
   "cell_type": "markdown",
   "id": "4a499350",
   "metadata": {},
   "source": [
    "### Importing libaries"
   ]
  },
  {
   "cell_type": "code",
   "execution_count": 1,
   "id": "4d3ec61a",
   "metadata": {},
   "outputs": [],
   "source": [
    "%matplotlib inline\n",
    "import numpy as np\n",
    "import pandas as pd\n",
    "import seaborn as sns\n",
    "import matplotlib.pyplot as plt\n",
    "from sklearn.preprocessing import LabelEncoder\n",
    "from sklearn.ensemble import ExtraTreesClassifier\n",
    "from sklearn.preprocessing import StandardScaler\n",
    "from imblearn.over_sampling import RandomOverSampler\n",
    "from sklearn.model_selection import train_test_split\n",
    "from sklearn.linear_model import LogisticRegression\n",
    "from sklearn.tree import DecisionTreeClassifier\n",
    "from sklearn.ensemble import RandomForestClassifier\n",
    "from sklearn.svm import SVC\n",
    "from sklearn.metrics import accuracy_score , f1_score\n",
    "from sklearn.model_selection import RandomizedSearchCV\n",
    "from sklearn.model_selection import GridSearchCV\n",
    "from sklearn.metrics import accuracy_score , classification_report , confusion_matrix"
   ]
  },
  {
   "cell_type": "code",
   "execution_count": 2,
   "id": "d5c9d8a8",
   "metadata": {},
   "outputs": [],
   "source": [
    "df = pd.read_csv(\"adult.csv\")"
   ]
  },
  {
   "cell_type": "code",
   "execution_count": 3,
   "id": "8a1b657e",
   "metadata": {},
   "outputs": [
    {
     "data": {
      "text/html": [
       "<div>\n",
       "<style scoped>\n",
       "    .dataframe tbody tr th:only-of-type {\n",
       "        vertical-align: middle;\n",
       "    }\n",
       "\n",
       "    .dataframe tbody tr th {\n",
       "        vertical-align: top;\n",
       "    }\n",
       "\n",
       "    .dataframe thead th {\n",
       "        text-align: right;\n",
       "    }\n",
       "</style>\n",
       "<table border=\"1\" class=\"dataframe\">\n",
       "  <thead>\n",
       "    <tr style=\"text-align: right;\">\n",
       "      <th></th>\n",
       "      <th>age</th>\n",
       "      <th>workclass</th>\n",
       "      <th>fnlwgt</th>\n",
       "      <th>education</th>\n",
       "      <th>education-num</th>\n",
       "      <th>marital-status</th>\n",
       "      <th>occupation</th>\n",
       "      <th>relationship</th>\n",
       "      <th>race</th>\n",
       "      <th>sex</th>\n",
       "      <th>capital-gain</th>\n",
       "      <th>capital-loss</th>\n",
       "      <th>hours-per-week</th>\n",
       "      <th>country</th>\n",
       "      <th>salary</th>\n",
       "    </tr>\n",
       "  </thead>\n",
       "  <tbody>\n",
       "    <tr>\n",
       "      <th>0</th>\n",
       "      <td>39</td>\n",
       "      <td>State-gov</td>\n",
       "      <td>77516</td>\n",
       "      <td>Bachelors</td>\n",
       "      <td>13</td>\n",
       "      <td>Never-married</td>\n",
       "      <td>Adm-clerical</td>\n",
       "      <td>Not-in-family</td>\n",
       "      <td>White</td>\n",
       "      <td>Male</td>\n",
       "      <td>2174</td>\n",
       "      <td>0</td>\n",
       "      <td>40</td>\n",
       "      <td>United-States</td>\n",
       "      <td>&lt;=50K</td>\n",
       "    </tr>\n",
       "    <tr>\n",
       "      <th>1</th>\n",
       "      <td>50</td>\n",
       "      <td>Self-emp-not-inc</td>\n",
       "      <td>83311</td>\n",
       "      <td>Bachelors</td>\n",
       "      <td>13</td>\n",
       "      <td>Married-civ-spouse</td>\n",
       "      <td>Exec-managerial</td>\n",
       "      <td>Husband</td>\n",
       "      <td>White</td>\n",
       "      <td>Male</td>\n",
       "      <td>0</td>\n",
       "      <td>0</td>\n",
       "      <td>13</td>\n",
       "      <td>United-States</td>\n",
       "      <td>&lt;=50K</td>\n",
       "    </tr>\n",
       "    <tr>\n",
       "      <th>2</th>\n",
       "      <td>38</td>\n",
       "      <td>Private</td>\n",
       "      <td>215646</td>\n",
       "      <td>HS-grad</td>\n",
       "      <td>9</td>\n",
       "      <td>Divorced</td>\n",
       "      <td>Handlers-cleaners</td>\n",
       "      <td>Not-in-family</td>\n",
       "      <td>White</td>\n",
       "      <td>Male</td>\n",
       "      <td>0</td>\n",
       "      <td>0</td>\n",
       "      <td>40</td>\n",
       "      <td>United-States</td>\n",
       "      <td>&lt;=50K</td>\n",
       "    </tr>\n",
       "    <tr>\n",
       "      <th>3</th>\n",
       "      <td>53</td>\n",
       "      <td>Private</td>\n",
       "      <td>234721</td>\n",
       "      <td>11th</td>\n",
       "      <td>7</td>\n",
       "      <td>Married-civ-spouse</td>\n",
       "      <td>Handlers-cleaners</td>\n",
       "      <td>Husband</td>\n",
       "      <td>Black</td>\n",
       "      <td>Male</td>\n",
       "      <td>0</td>\n",
       "      <td>0</td>\n",
       "      <td>40</td>\n",
       "      <td>United-States</td>\n",
       "      <td>&lt;=50K</td>\n",
       "    </tr>\n",
       "    <tr>\n",
       "      <th>4</th>\n",
       "      <td>28</td>\n",
       "      <td>Private</td>\n",
       "      <td>338409</td>\n",
       "      <td>Bachelors</td>\n",
       "      <td>13</td>\n",
       "      <td>Married-civ-spouse</td>\n",
       "      <td>Prof-specialty</td>\n",
       "      <td>Wife</td>\n",
       "      <td>Black</td>\n",
       "      <td>Female</td>\n",
       "      <td>0</td>\n",
       "      <td>0</td>\n",
       "      <td>40</td>\n",
       "      <td>Cuba</td>\n",
       "      <td>&lt;=50K</td>\n",
       "    </tr>\n",
       "  </tbody>\n",
       "</table>\n",
       "</div>"
      ],
      "text/plain": [
       "   age          workclass  fnlwgt   education  education-num  \\\n",
       "0   39          State-gov   77516   Bachelors             13   \n",
       "1   50   Self-emp-not-inc   83311   Bachelors             13   \n",
       "2   38            Private  215646     HS-grad              9   \n",
       "3   53            Private  234721        11th              7   \n",
       "4   28            Private  338409   Bachelors             13   \n",
       "\n",
       "        marital-status          occupation    relationship    race      sex  \\\n",
       "0        Never-married        Adm-clerical   Not-in-family   White     Male   \n",
       "1   Married-civ-spouse     Exec-managerial         Husband   White     Male   \n",
       "2             Divorced   Handlers-cleaners   Not-in-family   White     Male   \n",
       "3   Married-civ-spouse   Handlers-cleaners         Husband   Black     Male   \n",
       "4   Married-civ-spouse      Prof-specialty            Wife   Black   Female   \n",
       "\n",
       "   capital-gain  capital-loss  hours-per-week         country  salary  \n",
       "0          2174             0              40   United-States   <=50K  \n",
       "1             0             0              13   United-States   <=50K  \n",
       "2             0             0              40   United-States   <=50K  \n",
       "3             0             0              40   United-States   <=50K  \n",
       "4             0             0              40            Cuba   <=50K  "
      ]
     },
     "execution_count": 3,
     "metadata": {},
     "output_type": "execute_result"
    }
   ],
   "source": [
    "df.head()"
   ]
  },
  {
   "cell_type": "code",
   "execution_count": 4,
   "id": "7ccabeb4",
   "metadata": {},
   "outputs": [
    {
     "data": {
      "text/plain": [
       "(32561, 15)"
      ]
     },
     "execution_count": 4,
     "metadata": {},
     "output_type": "execute_result"
    }
   ],
   "source": [
    "df.shape"
   ]
  },
  {
   "cell_type": "code",
   "execution_count": 5,
   "id": "788be2c5",
   "metadata": {},
   "outputs": [
    {
     "data": {
      "text/plain": [
       "Index(['age', 'workclass', 'fnlwgt', 'education', 'education-num',\n",
       "       'marital-status', 'occupation', 'relationship', 'race', 'sex',\n",
       "       'capital-gain', 'capital-loss', 'hours-per-week', 'country', 'salary'],\n",
       "      dtype='object')"
      ]
     },
     "execution_count": 5,
     "metadata": {},
     "output_type": "execute_result"
    }
   ],
   "source": [
    "df.columns"
   ]
  },
  {
   "cell_type": "code",
   "execution_count": 6,
   "id": "27eed3a1",
   "metadata": {},
   "outputs": [
    {
     "name": "stdout",
     "output_type": "stream",
     "text": [
      "<class 'pandas.core.frame.DataFrame'>\n",
      "RangeIndex: 32561 entries, 0 to 32560\n",
      "Data columns (total 15 columns):\n",
      " #   Column          Non-Null Count  Dtype \n",
      "---  ------          --------------  ----- \n",
      " 0   age             32561 non-null  int64 \n",
      " 1   workclass       32561 non-null  object\n",
      " 2   fnlwgt          32561 non-null  int64 \n",
      " 3   education       32561 non-null  object\n",
      " 4   education-num   32561 non-null  int64 \n",
      " 5   marital-status  32561 non-null  object\n",
      " 6   occupation      32561 non-null  object\n",
      " 7   relationship    32561 non-null  object\n",
      " 8   race            32561 non-null  object\n",
      " 9   sex             32561 non-null  object\n",
      " 10  capital-gain    32561 non-null  int64 \n",
      " 11  capital-loss    32561 non-null  int64 \n",
      " 12  hours-per-week  32561 non-null  int64 \n",
      " 13  country         32561 non-null  object\n",
      " 14  salary          32561 non-null  object\n",
      "dtypes: int64(6), object(9)\n",
      "memory usage: 3.7+ MB\n"
     ]
    }
   ],
   "source": [
    "df.info()"
   ]
  },
  {
   "cell_type": "code",
   "execution_count": 7,
   "id": "8e795fdf",
   "metadata": {},
   "outputs": [
    {
     "data": {
      "text/html": [
       "<div>\n",
       "<style scoped>\n",
       "    .dataframe tbody tr th:only-of-type {\n",
       "        vertical-align: middle;\n",
       "    }\n",
       "\n",
       "    .dataframe tbody tr th {\n",
       "        vertical-align: top;\n",
       "    }\n",
       "\n",
       "    .dataframe thead th {\n",
       "        text-align: right;\n",
       "    }\n",
       "</style>\n",
       "<table border=\"1\" class=\"dataframe\">\n",
       "  <thead>\n",
       "    <tr style=\"text-align: right;\">\n",
       "      <th></th>\n",
       "      <th>age</th>\n",
       "      <th>fnlwgt</th>\n",
       "      <th>education-num</th>\n",
       "      <th>capital-gain</th>\n",
       "      <th>capital-loss</th>\n",
       "      <th>hours-per-week</th>\n",
       "    </tr>\n",
       "  </thead>\n",
       "  <tbody>\n",
       "    <tr>\n",
       "      <th>count</th>\n",
       "      <td>32561.000000</td>\n",
       "      <td>3.256100e+04</td>\n",
       "      <td>32561.000000</td>\n",
       "      <td>32561.000000</td>\n",
       "      <td>32561.000000</td>\n",
       "      <td>32561.000000</td>\n",
       "    </tr>\n",
       "    <tr>\n",
       "      <th>mean</th>\n",
       "      <td>38.581647</td>\n",
       "      <td>1.897784e+05</td>\n",
       "      <td>10.080679</td>\n",
       "      <td>1077.648844</td>\n",
       "      <td>87.303830</td>\n",
       "      <td>40.437456</td>\n",
       "    </tr>\n",
       "    <tr>\n",
       "      <th>std</th>\n",
       "      <td>13.640433</td>\n",
       "      <td>1.055500e+05</td>\n",
       "      <td>2.572720</td>\n",
       "      <td>7385.292085</td>\n",
       "      <td>402.960219</td>\n",
       "      <td>12.347429</td>\n",
       "    </tr>\n",
       "    <tr>\n",
       "      <th>min</th>\n",
       "      <td>17.000000</td>\n",
       "      <td>1.228500e+04</td>\n",
       "      <td>1.000000</td>\n",
       "      <td>0.000000</td>\n",
       "      <td>0.000000</td>\n",
       "      <td>1.000000</td>\n",
       "    </tr>\n",
       "    <tr>\n",
       "      <th>25%</th>\n",
       "      <td>28.000000</td>\n",
       "      <td>1.178270e+05</td>\n",
       "      <td>9.000000</td>\n",
       "      <td>0.000000</td>\n",
       "      <td>0.000000</td>\n",
       "      <td>40.000000</td>\n",
       "    </tr>\n",
       "    <tr>\n",
       "      <th>50%</th>\n",
       "      <td>37.000000</td>\n",
       "      <td>1.783560e+05</td>\n",
       "      <td>10.000000</td>\n",
       "      <td>0.000000</td>\n",
       "      <td>0.000000</td>\n",
       "      <td>40.000000</td>\n",
       "    </tr>\n",
       "    <tr>\n",
       "      <th>75%</th>\n",
       "      <td>48.000000</td>\n",
       "      <td>2.370510e+05</td>\n",
       "      <td>12.000000</td>\n",
       "      <td>0.000000</td>\n",
       "      <td>0.000000</td>\n",
       "      <td>45.000000</td>\n",
       "    </tr>\n",
       "    <tr>\n",
       "      <th>max</th>\n",
       "      <td>90.000000</td>\n",
       "      <td>1.484705e+06</td>\n",
       "      <td>16.000000</td>\n",
       "      <td>99999.000000</td>\n",
       "      <td>4356.000000</td>\n",
       "      <td>99.000000</td>\n",
       "    </tr>\n",
       "  </tbody>\n",
       "</table>\n",
       "</div>"
      ],
      "text/plain": [
       "                age        fnlwgt  education-num  capital-gain  capital-loss  \\\n",
       "count  32561.000000  3.256100e+04   32561.000000  32561.000000  32561.000000   \n",
       "mean      38.581647  1.897784e+05      10.080679   1077.648844     87.303830   \n",
       "std       13.640433  1.055500e+05       2.572720   7385.292085    402.960219   \n",
       "min       17.000000  1.228500e+04       1.000000      0.000000      0.000000   \n",
       "25%       28.000000  1.178270e+05       9.000000      0.000000      0.000000   \n",
       "50%       37.000000  1.783560e+05      10.000000      0.000000      0.000000   \n",
       "75%       48.000000  2.370510e+05      12.000000      0.000000      0.000000   \n",
       "max       90.000000  1.484705e+06      16.000000  99999.000000   4356.000000   \n",
       "\n",
       "       hours-per-week  \n",
       "count    32561.000000  \n",
       "mean        40.437456  \n",
       "std         12.347429  \n",
       "min          1.000000  \n",
       "25%         40.000000  \n",
       "50%         40.000000  \n",
       "75%         45.000000  \n",
       "max         99.000000  "
      ]
     },
     "execution_count": 7,
     "metadata": {},
     "output_type": "execute_result"
    }
   ],
   "source": [
    "df.describe()"
   ]
  },
  {
   "cell_type": "markdown",
   "id": "53ad55b4",
   "metadata": {},
   "source": [
    "# 1. Exploratory Data Analysis"
   ]
  },
  {
   "cell_type": "code",
   "execution_count": 8,
   "id": "9226bfbb",
   "metadata": {},
   "outputs": [
    {
     "name": "stderr",
     "output_type": "stream",
     "text": [
      "C:\\Users\\shail\\AppData\\Local\\Programs\\Python\\Python310\\lib\\site-packages\\seaborn\\distributions.py:2619: FutureWarning: `distplot` is a deprecated function and will be removed in a future version. Please adapt your code to use either `displot` (a figure-level function with similar flexibility) or `histplot` (an axes-level function for histograms).\n",
      "  warnings.warn(msg, FutureWarning)\n"
     ]
    },
    {
     "data": {
      "text/plain": [
       "<AxesSubplot:xlabel='age', ylabel='Density'>"
      ]
     },
     "execution_count": 8,
     "metadata": {},
     "output_type": "execute_result"
    },
    {
     "data": {
      "image/png": "[encoded data removed]",
      "text/plain": [
       "<Figure size 432x288 with 1 Axes>"
      ]
     },
     "metadata": {
      "needs_background": "light"
     },
     "output_type": "display_data"
    }
   ],
   "source": [
    "sns.distplot(df[\"age\"],bins=20)"
   ]
  },
  {
   "cell_type": "code",
   "execution_count": 9,
   "id": "bb35a6fc",
   "metadata": {},
   "outputs": [
    {
     "data": {
      "text/plain": [
       " Private             22696\n",
       " Self-emp-not-inc     2541\n",
       " Local-gov            2093\n",
       " ?                    1836\n",
       " State-gov            1298\n",
       " Self-emp-inc         1116\n",
       " Federal-gov           960\n",
       " Without-pay            14\n",
       " Never-worked            7\n",
       "Name: workclass, dtype: int64"
      ]
     },
     "execution_count": 9,
     "metadata": {},
     "output_type": "execute_result"
    }
   ],
   "source": [
    "df[\"workclass\"].value_counts()"
   ]
  },
  {
   "cell_type": "code",
   "execution_count": 10,
   "id": "e09b629c",
   "metadata": {},
   "outputs": [
    {
     "name": "stderr",
     "output_type": "stream",
     "text": [
      "C:\\Users\\shail\\AppData\\Local\\Programs\\Python\\Python310\\lib\\site-packages\\seaborn\\_decorators.py:36: FutureWarning: Pass the following variables as keyword args: x, y. From version 0.12, the only valid positional argument will be `data`, and passing other arguments without an explicit keyword will result in an error or misinterpretation.\n",
      "  warnings.warn(\n"
     ]
    },
    {
     "data": {
      "text/plain": [
       "<AxesSubplot:>"
      ]
     },
     "execution_count": 10,
     "metadata": {},
     "output_type": "execute_result"
    },
    {
     "data": {
      "image/png": "[encoded data removed]",
      "text/plain": [
       "<Figure size 432x288 with 1 Axes>"
      ]
     },
     "metadata": {
      "needs_background": "light"
     },
     "output_type": "display_data"
    }
   ],
   "source": [
    "wc = df[\"workclass\"].value_counts()\n",
    "sns.barplot(wc.values, wc.index)"
   ]
  },
  {
   "cell_type": "markdown",
   "id": "e8e1f804",
   "metadata": {},
   "source": [
    "#### Here we see that most of the people doing private jobs"
   ]
  },
  {
   "cell_type": "code",
   "execution_count": 11,
   "id": "78585e29",
   "metadata": {},
   "outputs": [
    {
     "data": {
      "text/plain": [
       "array([' Bachelors', ' HS-grad', ' 11th', ' Masters', ' 9th',\n",
       "       ' Some-college', ' Assoc-acdm', ' Assoc-voc', ' 7th-8th',\n",
       "       ' Doctorate', ' Prof-school', ' 5th-6th', ' 10th', ' 1st-4th',\n",
       "       ' Preschool', ' 12th'], dtype=object)"
      ]
     },
     "execution_count": 11,
     "metadata": {},
     "output_type": "execute_result"
    }
   ],
   "source": [
    "df[\"education\"].unique()"
   ]
  },
  {
   "cell_type": "code",
   "execution_count": 12,
   "id": "292125cd",
   "metadata": {},
   "outputs": [
    {
     "data": {
      "text/plain": [
       " HS-grad         10501\n",
       " Some-college     7291\n",
       " Bachelors        5355\n",
       " Masters          1723\n",
       " Assoc-voc        1382\n",
       " 11th             1175\n",
       " Assoc-acdm       1067\n",
       " 10th              933\n",
       " 7th-8th           646\n",
       " Prof-school       576\n",
       " 9th               514\n",
       " 12th              433\n",
       " Doctorate         413\n",
       " 5th-6th           333\n",
       " 1st-4th           168\n",
       " Preschool          51\n",
       "Name: education, dtype: int64"
      ]
     },
     "execution_count": 12,
     "metadata": {},
     "output_type": "execute_result"
    }
   ],
   "source": [
    "df[\"education\"].value_counts()"
   ]
  },
  {
   "cell_type": "code",
   "execution_count": 13,
   "id": "5c521daa",
   "metadata": {},
   "outputs": [
    {
     "name": "stderr",
     "output_type": "stream",
     "text": [
      "C:\\Users\\shail\\AppData\\Local\\Programs\\Python\\Python310\\lib\\site-packages\\seaborn\\_decorators.py:36: FutureWarning: Pass the following variables as keyword args: x, y. From version 0.12, the only valid positional argument will be `data`, and passing other arguments without an explicit keyword will result in an error or misinterpretation.\n",
      "  warnings.warn(\n"
     ]
    },
    {
     "data": {
      "text/plain": [
       "<AxesSubplot:>"
      ]
     },
     "execution_count": 13,
     "metadata": {},
     "output_type": "execute_result"
    },
    {
     "data": {
      "image/png": "[encoded data removed]",
      "text/plain": [
       "<Figure size 432x288 with 1 Axes>"
      ]
     },
     "metadata": {
      "needs_background": "light"
     },
     "output_type": "display_data"
    }
   ],
   "source": [
    "edu = df[\"education\"].value_counts()\n",
    "sns.barplot(edu.values, edu.index)"
   ]
  },
  {
   "cell_type": "markdown",
   "id": "cd2b8ed9",
   "metadata": {},
   "source": [
    "#### Here we can see that the majority of people have completed HS-Grad, College or Bachelors."
   ]
  },
  {
   "cell_type": "code",
   "execution_count": 14,
   "id": "2820c723",
   "metadata": {},
   "outputs": [
    {
     "data": {
      "text/plain": [
       "array([' Never-married', ' Married-civ-spouse', ' Divorced',\n",
       "       ' Married-spouse-absent', ' Separated', ' Married-AF-spouse',\n",
       "       ' Widowed'], dtype=object)"
      ]
     },
     "execution_count": 14,
     "metadata": {},
     "output_type": "execute_result"
    }
   ],
   "source": [
    "df[\"marital-status\"].unique()"
   ]
  },
  {
   "cell_type": "code",
   "execution_count": 15,
   "id": "c3b88034",
   "metadata": {},
   "outputs": [
    {
     "data": {
      "text/plain": [
       " Married-civ-spouse       14976\n",
       " Never-married            10683\n",
       " Divorced                  4443\n",
       " Separated                 1025\n",
       " Widowed                    993\n",
       " Married-spouse-absent      418\n",
       " Married-AF-spouse           23\n",
       "Name: marital-status, dtype: int64"
      ]
     },
     "execution_count": 15,
     "metadata": {},
     "output_type": "execute_result"
    }
   ],
   "source": [
    "df[\"marital-status\"].value_counts()"
   ]
  },
  {
   "cell_type": "code",
   "execution_count": 16,
   "id": "5316578c",
   "metadata": {},
   "outputs": [
    {
     "name": "stderr",
     "output_type": "stream",
     "text": [
      "C:\\Users\\shail\\AppData\\Local\\Programs\\Python\\Python310\\lib\\site-packages\\seaborn\\_decorators.py:36: FutureWarning: Pass the following variables as keyword args: x, y. From version 0.12, the only valid positional argument will be `data`, and passing other arguments without an explicit keyword will result in an error or misinterpretation.\n",
      "  warnings.warn(\n"
     ]
    },
    {
     "data": {
      "text/plain": [
       "<AxesSubplot:>"
      ]
     },
     "execution_count": 16,
     "metadata": {},
     "output_type": "execute_result"
    },
    {
     "data": {
      "image/png": "[encoded data removed]",
      "text/plain": [
       "<Figure size 432x288 with 1 Axes>"
      ]
     },
     "metadata": {
      "needs_background": "light"
     },
     "output_type": "display_data"
    }
   ],
   "source": [
    "mr = df[\"marital-status\"].value_counts()\n",
    "sns.barplot(mr.values, mr.index)"
   ]
  },
  {
   "cell_type": "markdown",
   "id": "e1a6fdf4",
   "metadata": {},
   "source": [
    "#### here we can clearly see that most of the peole are married "
   ]
  },
  {
   "cell_type": "code",
   "execution_count": 17,
   "id": "8330722d",
   "metadata": {},
   "outputs": [
    {
     "data": {
      "text/plain": [
       "array([' Adm-clerical', ' Exec-managerial', ' Handlers-cleaners',\n",
       "       ' Prof-specialty', ' Other-service', ' Sales', ' Craft-repair',\n",
       "       ' Transport-moving', ' Farming-fishing', ' Machine-op-inspct',\n",
       "       ' Tech-support', ' ?', ' Protective-serv', ' Armed-Forces',\n",
       "       ' Priv-house-serv'], dtype=object)"
      ]
     },
     "execution_count": 17,
     "metadata": {},
     "output_type": "execute_result"
    }
   ],
   "source": [
    "df[\"occupation\"].unique()"
   ]
  },
  {
   "cell_type": "code",
   "execution_count": 18,
   "id": "5acfd917",
   "metadata": {},
   "outputs": [
    {
     "data": {
      "text/plain": [
       " Prof-specialty       4140\n",
       " Craft-repair         4099\n",
       " Exec-managerial      4066\n",
       " Adm-clerical         3770\n",
       " Sales                3650\n",
       " Other-service        3295\n",
       " Machine-op-inspct    2002\n",
       " ?                    1843\n",
       " Transport-moving     1597\n",
       " Handlers-cleaners    1370\n",
       " Farming-fishing       994\n",
       " Tech-support          928\n",
       " Protective-serv       649\n",
       " Priv-house-serv       149\n",
       " Armed-Forces            9\n",
       "Name: occupation, dtype: int64"
      ]
     },
     "execution_count": 18,
     "metadata": {},
     "output_type": "execute_result"
    }
   ],
   "source": [
    "df[\"occupation\"].value_counts()"
   ]
  },
  {
   "cell_type": "code",
   "execution_count": 19,
   "id": "60f56912",
   "metadata": {},
   "outputs": [
    {
     "name": "stderr",
     "output_type": "stream",
     "text": [
      "C:\\Users\\shail\\AppData\\Local\\Programs\\Python\\Python310\\lib\\site-packages\\seaborn\\_decorators.py:36: FutureWarning: Pass the following variables as keyword args: x, y. From version 0.12, the only valid positional argument will be `data`, and passing other arguments without an explicit keyword will result in an error or misinterpretation.\n",
      "  warnings.warn(\n"
     ]
    },
    {
     "data": {
      "text/plain": [
       "<AxesSubplot:>"
      ]
     },
     "execution_count": 19,
     "metadata": {},
     "output_type": "execute_result"
    },
    {
     "data": {
      "image/png": "[encoded data removed]",
      "text/plain": [
       "<Figure size 432x288 with 1 Axes>"
      ]
     },
     "metadata": {
      "needs_background": "light"
     },
     "output_type": "display_data"
    }
   ],
   "source": [
    "oc = df[\"occupation\"].value_counts()\n",
    "sns.barplot(oc.values, oc.index)"
   ]
  },
  {
   "cell_type": "markdown",
   "id": "95e8b263",
   "metadata": {},
   "source": [
    "#### Here we can see that the majority of people occupation is Prof-specialty ,Craft-repair , Exec-managerial and Adm-clerical"
   ]
  },
  {
   "cell_type": "code",
   "execution_count": 20,
   "id": "2e20bc02",
   "metadata": {},
   "outputs": [
    {
     "data": {
      "text/plain": [
       " Husband           13193\n",
       " Not-in-family      8305\n",
       " Own-child          5068\n",
       " Unmarried          3446\n",
       " Wife               1568\n",
       " Other-relative      981\n",
       "Name: relationship, dtype: int64"
      ]
     },
     "execution_count": 20,
     "metadata": {},
     "output_type": "execute_result"
    }
   ],
   "source": [
    "df[\"relationship\"].value_counts()"
   ]
  },
  {
   "cell_type": "code",
   "execution_count": 21,
   "id": "42e276fe",
   "metadata": {},
   "outputs": [
    {
     "data": {
      "text/plain": [
       " Male      21790\n",
       " Female    10771\n",
       "Name: sex, dtype: int64"
      ]
     },
     "execution_count": 21,
     "metadata": {},
     "output_type": "execute_result"
    }
   ],
   "source": [
    "df[\"sex\"].value_counts()"
   ]
  },
  {
   "cell_type": "code",
   "execution_count": 22,
   "id": "7373c1f5",
   "metadata": {},
   "outputs": [
    {
     "name": "stderr",
     "output_type": "stream",
     "text": [
      "C:\\Users\\shail\\AppData\\Local\\Programs\\Python\\Python310\\lib\\site-packages\\seaborn\\_decorators.py:36: FutureWarning: Pass the following variable as a keyword arg: x. From version 0.12, the only valid positional argument will be `data`, and passing other arguments without an explicit keyword will result in an error or misinterpretation.\n",
      "  warnings.warn(\n"
     ]
    },
    {
     "data": {
      "text/plain": [
       "<AxesSubplot:xlabel='sex', ylabel='count'>"
      ]
     },
     "execution_count": 22,
     "metadata": {},
     "output_type": "execute_result"
    },
    {
     "data": {
      "image/png": "[encoded data removed]",
      "text/plain": [
       "<Figure size 432x288 with 1 Axes>"
      ]
     },
     "metadata": {
      "needs_background": "light"
     },
     "output_type": "display_data"
    }
   ],
   "source": [
    "sns.countplot(df[\"sex\"])"
   ]
  },
  {
   "cell_type": "markdown",
   "id": "418dd9fa",
   "metadata": {},
   "source": [
    "#### male are more then female"
   ]
  },
  {
   "cell_type": "code",
   "execution_count": 23,
   "id": "d4f27a4a",
   "metadata": {},
   "outputs": [
    {
     "data": {
      "text/plain": [
       " United-States                 29170\n",
       " Mexico                          643\n",
       " ?                               583\n",
       " Philippines                     198\n",
       " Germany                         137\n",
       " Canada                          121\n",
       " Puerto-Rico                     114\n",
       " El-Salvador                     106\n",
       " India                           100\n",
       " Cuba                             95\n",
       " England                          90\n",
       " Jamaica                          81\n",
       " South                            80\n",
       " China                            75\n",
       " Italy                            73\n",
       " Dominican-Republic               70\n",
       " Vietnam                          67\n",
       " Guatemala                        64\n",
       " Japan                            62\n",
       " Poland                           60\n",
       " Columbia                         59\n",
       " Taiwan                           51\n",
       " Haiti                            44\n",
       " Iran                             43\n",
       " Portugal                         37\n",
       " Nicaragua                        34\n",
       " Peru                             31\n",
       " France                           29\n",
       " Greece                           29\n",
       " Ecuador                          28\n",
       " Ireland                          24\n",
       " Hong                             20\n",
       " Cambodia                         19\n",
       " Trinadad&Tobago                  19\n",
       " Laos                             18\n",
       " Thailand                         18\n",
       " Yugoslavia                       16\n",
       " Outlying-US(Guam-USVI-etc)       14\n",
       " Honduras                         13\n",
       " Hungary                          13\n",
       " Scotland                         12\n",
       " Holand-Netherlands                1\n",
       "Name: country, dtype: int64"
      ]
     },
     "execution_count": 23,
     "metadata": {},
     "output_type": "execute_result"
    }
   ],
   "source": [
    "df[\"country\"].value_counts()"
   ]
  },
  {
   "cell_type": "code",
   "execution_count": 24,
   "id": "488f7960",
   "metadata": {},
   "outputs": [
    {
     "name": "stderr",
     "output_type": "stream",
     "text": [
      "C:\\Users\\shail\\AppData\\Local\\Programs\\Python\\Python310\\lib\\site-packages\\seaborn\\distributions.py:2619: FutureWarning: `distplot` is a deprecated function and will be removed in a future version. Please adapt your code to use either `displot` (a figure-level function with similar flexibility) or `histplot` (an axes-level function for histograms).\n",
      "  warnings.warn(msg, FutureWarning)\n"
     ]
    },
    {
     "data": {
      "image/png": "[encoded data removed]",
      "text/plain": [
       "<Figure size 1080x360 with 1 Axes>"
      ]
     },
     "metadata": {
      "needs_background": "light"
     },
     "output_type": "display_data"
    }
   ],
   "source": [
    "plt.figure(figsize=(15, 5))\n",
    "sns.distplot(df[\"hours-per-week\"])\n",
    "plt.show()"
   ]
  },
  {
   "cell_type": "markdown",
   "id": "dad8df24",
   "metadata": {},
   "source": [
    "#### from the above observation we can see that the average hours per week by an individual is 40"
   ]
  },
  {
   "cell_type": "code",
   "execution_count": 25,
   "id": "56e369dc",
   "metadata": {},
   "outputs": [
    {
     "data": {
      "text/plain": [
       " <=50K    24720\n",
       " >50K      7841\n",
       "Name: salary, dtype: int64"
      ]
     },
     "execution_count": 25,
     "metadata": {},
     "output_type": "execute_result"
    }
   ],
   "source": [
    "df[\"salary\"].value_counts()"
   ]
  },
  {
   "cell_type": "code",
   "execution_count": 26,
   "id": "4036e007",
   "metadata": {},
   "outputs": [
    {
     "name": "stderr",
     "output_type": "stream",
     "text": [
      "C:\\Users\\shail\\AppData\\Local\\Programs\\Python\\Python310\\lib\\site-packages\\seaborn\\_decorators.py:36: FutureWarning: Pass the following variable as a keyword arg: x. From version 0.12, the only valid positional argument will be `data`, and passing other arguments without an explicit keyword will result in an error or misinterpretation.\n",
      "  warnings.warn(\n"
     ]
    },
    {
     "data": {
      "text/plain": [
       "<AxesSubplot:xlabel='salary', ylabel='count'>"
      ]
     },
     "execution_count": 26,
     "metadata": {},
     "output_type": "execute_result"
    },
    {
     "data": {
      "image/png": "[encoded data removed]",
      "text/plain": [
       "<Figure size 432x288 with 1 Axes>"
      ]
     },
     "metadata": {
      "needs_background": "light"
     },
     "output_type": "display_data"
    }
   ],
   "source": [
    "sns.countplot(df[\"salary\"])"
   ]
  },
  {
   "cell_type": "markdown",
   "id": "9867fec3",
   "metadata": {},
   "source": [
    "#### there are more number of people who's salary is less than 50k"
   ]
  },
  {
   "cell_type": "code",
   "execution_count": 27,
   "id": "f9ab59da",
   "metadata": {},
   "outputs": [
    {
     "data": {
      "text/plain": [
       "<AxesSubplot:xlabel='sex', ylabel='count'>"
      ]
     },
     "execution_count": 27,
     "metadata": {},
     "output_type": "execute_result"
    },
    {
     "data": {
      "image/png": "[encoded data removed]",
      "text/plain": [
       "<Figure size 432x288 with 1 Axes>"
      ]
     },
     "metadata": {
      "needs_background": "light"
     },
     "output_type": "display_data"
    }
   ],
   "source": [
    "sns.countplot(x=\"sex\", hue=\"salary\", data=df)"
   ]
  },
  {
   "cell_type": "markdown",
   "id": "5eed8c07",
   "metadata": {},
   "source": [
    "#### Males have a higher salary than females"
   ]
  },
  {
   "cell_type": "markdown",
   "id": "a317b37c",
   "metadata": {},
   "source": [
    "# 2. Data Pre-processing"
   ]
  },
  {
   "cell_type": "markdown",
   "id": "5478d2a2",
   "metadata": {},
   "source": [
    "### Checking missing values"
   ]
  },
  {
   "cell_type": "code",
   "execution_count": 28,
   "id": "91209c30",
   "metadata": {},
   "outputs": [
    {
     "data": {
      "text/plain": [
       "age               0\n",
       "workclass         0\n",
       "fnlwgt            0\n",
       "education         0\n",
       "education-num     0\n",
       "marital-status    0\n",
       "occupation        0\n",
       "relationship      0\n",
       "race              0\n",
       "sex               0\n",
       "capital-gain      0\n",
       "capital-loss      0\n",
       "hours-per-week    0\n",
       "country           0\n",
       "salary            0\n",
       "dtype: int64"
      ]
     },
     "execution_count": 28,
     "metadata": {},
     "output_type": "execute_result"
    }
   ],
   "source": [
    "df.isnull().sum()"
   ]
  },
  {
   "cell_type": "code",
   "execution_count": 29,
   "id": "2656c29b",
   "metadata": {},
   "outputs": [
    {
     "data": {
      "text/plain": [
       "age               0\n",
       "workclass         0\n",
       "fnlwgt            0\n",
       "education         0\n",
       "education-num     0\n",
       "marital-status    0\n",
       "occupation        0\n",
       "relationship      0\n",
       "race              0\n",
       "sex               0\n",
       "capital-gain      0\n",
       "capital-loss      0\n",
       "hours-per-week    0\n",
       "country           0\n",
       "salary            0\n",
       "dtype: int64"
      ]
     },
     "execution_count": 29,
     "metadata": {},
     "output_type": "execute_result"
    }
   ],
   "source": [
    "df.isin([\"?\"]).sum()"
   ]
  },
  {
   "cell_type": "markdown",
   "id": "7674b9ae",
   "metadata": {},
   "source": [
    "#### there are no missing values in the dataset"
   ]
  },
  {
   "cell_type": "markdown",
   "id": "63b19c1e",
   "metadata": {},
   "source": [
    "### Label Encoding"
   ]
  },
  {
   "cell_type": "code",
   "execution_count": 30,
   "id": "70ab351e",
   "metadata": {},
   "outputs": [],
   "source": [
    "for col in df.columns:\n",
    "    if df[col].dtype == \"object\":\n",
    "        le = LabelEncoder()\n",
    "        \n",
    "        df[col] = le.fit_transform(df[col].astype(str))"
   ]
  },
  {
   "cell_type": "code",
   "execution_count": 31,
   "id": "47ffe4e5",
   "metadata": {},
   "outputs": [
    {
     "data": {
      "text/html": [
       "<div>\n",
       "<style scoped>\n",
       "    .dataframe tbody tr th:only-of-type {\n",
       "        vertical-align: middle;\n",
       "    }\n",
       "\n",
       "    .dataframe tbody tr th {\n",
       "        vertical-align: top;\n",
       "    }\n",
       "\n",
       "    .dataframe thead th {\n",
       "        text-align: right;\n",
       "    }\n",
       "</style>\n",
       "<table border=\"1\" class=\"dataframe\">\n",
       "  <thead>\n",
       "    <tr style=\"text-align: right;\">\n",
       "      <th></th>\n",
       "      <th>age</th>\n",
       "      <th>workclass</th>\n",
       "      <th>fnlwgt</th>\n",
       "      <th>education</th>\n",
       "      <th>education-num</th>\n",
       "      <th>marital-status</th>\n",
       "      <th>occupation</th>\n",
       "      <th>relationship</th>\n",
       "      <th>race</th>\n",
       "      <th>sex</th>\n",
       "      <th>capital-gain</th>\n",
       "      <th>capital-loss</th>\n",
       "      <th>hours-per-week</th>\n",
       "      <th>country</th>\n",
       "      <th>salary</th>\n",
       "    </tr>\n",
       "  </thead>\n",
       "  <tbody>\n",
       "    <tr>\n",
       "      <th>0</th>\n",
       "      <td>39</td>\n",
       "      <td>7</td>\n",
       "      <td>77516</td>\n",
       "      <td>9</td>\n",
       "      <td>13</td>\n",
       "      <td>4</td>\n",
       "      <td>1</td>\n",
       "      <td>1</td>\n",
       "      <td>4</td>\n",
       "      <td>1</td>\n",
       "      <td>2174</td>\n",
       "      <td>0</td>\n",
       "      <td>40</td>\n",
       "      <td>39</td>\n",
       "      <td>0</td>\n",
       "    </tr>\n",
       "    <tr>\n",
       "      <th>1</th>\n",
       "      <td>50</td>\n",
       "      <td>6</td>\n",
       "      <td>83311</td>\n",
       "      <td>9</td>\n",
       "      <td>13</td>\n",
       "      <td>2</td>\n",
       "      <td>4</td>\n",
       "      <td>0</td>\n",
       "      <td>4</td>\n",
       "      <td>1</td>\n",
       "      <td>0</td>\n",
       "      <td>0</td>\n",
       "      <td>13</td>\n",
       "      <td>39</td>\n",
       "      <td>0</td>\n",
       "    </tr>\n",
       "    <tr>\n",
       "      <th>2</th>\n",
       "      <td>38</td>\n",
       "      <td>4</td>\n",
       "      <td>215646</td>\n",
       "      <td>11</td>\n",
       "      <td>9</td>\n",
       "      <td>0</td>\n",
       "      <td>6</td>\n",
       "      <td>1</td>\n",
       "      <td>4</td>\n",
       "      <td>1</td>\n",
       "      <td>0</td>\n",
       "      <td>0</td>\n",
       "      <td>40</td>\n",
       "      <td>39</td>\n",
       "      <td>0</td>\n",
       "    </tr>\n",
       "    <tr>\n",
       "      <th>3</th>\n",
       "      <td>53</td>\n",
       "      <td>4</td>\n",
       "      <td>234721</td>\n",
       "      <td>1</td>\n",
       "      <td>7</td>\n",
       "      <td>2</td>\n",
       "      <td>6</td>\n",
       "      <td>0</td>\n",
       "      <td>2</td>\n",
       "      <td>1</td>\n",
       "      <td>0</td>\n",
       "      <td>0</td>\n",
       "      <td>40</td>\n",
       "      <td>39</td>\n",
       "      <td>0</td>\n",
       "    </tr>\n",
       "    <tr>\n",
       "      <th>4</th>\n",
       "      <td>28</td>\n",
       "      <td>4</td>\n",
       "      <td>338409</td>\n",
       "      <td>9</td>\n",
       "      <td>13</td>\n",
       "      <td>2</td>\n",
       "      <td>10</td>\n",
       "      <td>5</td>\n",
       "      <td>2</td>\n",
       "      <td>0</td>\n",
       "      <td>0</td>\n",
       "      <td>0</td>\n",
       "      <td>40</td>\n",
       "      <td>5</td>\n",
       "      <td>0</td>\n",
       "    </tr>\n",
       "  </tbody>\n",
       "</table>\n",
       "</div>"
      ],
      "text/plain": [
       "   age  workclass  fnlwgt  education  education-num  marital-status  \\\n",
       "0   39          7   77516          9             13               4   \n",
       "1   50          6   83311          9             13               2   \n",
       "2   38          4  215646         11              9               0   \n",
       "3   53          4  234721          1              7               2   \n",
       "4   28          4  338409          9             13               2   \n",
       "\n",
       "   occupation  relationship  race  sex  capital-gain  capital-loss  \\\n",
       "0           1             1     4    1          2174             0   \n",
       "1           4             0     4    1             0             0   \n",
       "2           6             1     4    1             0             0   \n",
       "3           6             0     2    1             0             0   \n",
       "4          10             5     2    0             0             0   \n",
       "\n",
       "   hours-per-week  country  salary  \n",
       "0              40       39       0  \n",
       "1              13       39       0  \n",
       "2              40       39       0  \n",
       "3              40       39       0  \n",
       "4              40        5       0  "
      ]
     },
     "execution_count": 31,
     "metadata": {},
     "output_type": "execute_result"
    }
   ],
   "source": [
    "df.head()"
   ]
  },
  {
   "cell_type": "code",
   "execution_count": 32,
   "id": "9f2405bd",
   "metadata": {},
   "outputs": [
    {
     "name": "stdout",
     "output_type": "stream",
     "text": [
      "<class 'pandas.core.frame.DataFrame'>\n",
      "RangeIndex: 32561 entries, 0 to 32560\n",
      "Data columns (total 15 columns):\n",
      " #   Column          Non-Null Count  Dtype\n",
      "---  ------          --------------  -----\n",
      " 0   age             32561 non-null  int64\n",
      " 1   workclass       32561 non-null  int32\n",
      " 2   fnlwgt          32561 non-null  int64\n",
      " 3   education       32561 non-null  int32\n",
      " 4   education-num   32561 non-null  int64\n",
      " 5   marital-status  32561 non-null  int32\n",
      " 6   occupation      32561 non-null  int32\n",
      " 7   relationship    32561 non-null  int32\n",
      " 8   race            32561 non-null  int32\n",
      " 9   sex             32561 non-null  int32\n",
      " 10  capital-gain    32561 non-null  int64\n",
      " 11  capital-loss    32561 non-null  int64\n",
      " 12  hours-per-week  32561 non-null  int64\n",
      " 13  country         32561 non-null  int32\n",
      " 14  salary          32561 non-null  int32\n",
      "dtypes: int32(9), int64(6)\n",
      "memory usage: 2.6 MB\n"
     ]
    }
   ],
   "source": [
    "df.info()"
   ]
  },
  {
   "cell_type": "markdown",
   "id": "eb34c25f",
   "metadata": {},
   "source": [
    "### Feature selection"
   ]
  },
  {
   "cell_type": "code",
   "execution_count": 33,
   "id": "27bf8d93",
   "metadata": {},
   "outputs": [],
   "source": [
    "x = df.drop(\"salary\", axis=1)\n",
    "y = df[\"salary\"]"
   ]
  },
  {
   "cell_type": "code",
   "execution_count": 34,
   "id": "10a37d52",
   "metadata": {},
   "outputs": [],
   "source": [
    "selection = ExtraTreesClassifier()"
   ]
  },
  {
   "cell_type": "code",
   "execution_count": 35,
   "id": "99759e13",
   "metadata": {},
   "outputs": [
    {
     "data": {
      "text/html": [
       "<style>#sk-container-id-1 {color: black;background-color: white;}#sk-container-id-1 pre{padding: 0;}#sk-container-id-1 div.sk-toggleable {background-color: white;}#sk-container-id-1 label.sk-toggleable__label {cursor: pointer;display: block;width: 100%;margin-bottom: 0;padding: 0.3em;box-sizing: border-box;text-align: center;}#sk-container-id-1 label.sk-toggleable__label-arrow:before {content: \"▸\";float: left;margin-right: 0.25em;color: #696969;}#sk-container-id-1 label.sk-toggleable__label-arrow:hover:before {color: black;}#sk-container-id-1 div.sk-estimator:hover label.sk-toggleable__label-arrow:before {color: black;}#sk-container-id-1 div.sk-toggleable__content {max-height: 0;max-width: 0;overflow: hidden;text-align: left;background-color: #f0f8ff;}#sk-container-id-1 div.sk-toggleable__content pre {margin: 0.2em;color: black;border-radius: 0.25em;background-color: #f0f8ff;}#sk-container-id-1 input.sk-toggleable__control:checked~div.sk-toggleable__content {max-height: 200px;max-width: 100%;overflow: auto;}#sk-container-id-1 input.sk-toggleable__control:checked~label.sk-toggleable__label-arrow:before {content: \"▾\";}#sk-container-id-1 div.sk-estimator input.sk-toggleable__control:checked~label.sk-toggleable__label {background-color: #d4ebff;}#sk-container-id-1 div.sk-label input.sk-toggleable__control:checked~label.sk-toggleable__label {background-color: #d4ebff;}#sk-container-id-1 input.sk-hidden--visually {border: 0;clip: rect(1px 1px 1px 1px);clip: rect(1px, 1px, 1px, 1px);height: 1px;margin: -1px;overflow: hidden;padding: 0;position: absolute;width: 1px;}#sk-container-id-1 div.sk-estimator {font-family: monospace;background-color: #f0f8ff;border: 1px dotted black;border-radius: 0.25em;box-sizing: border-box;margin-bottom: 0.5em;}#sk-container-id-1 div.sk-estimator:hover {background-color: #d4ebff;}#sk-container-id-1 div.sk-parallel-item::after {content: \"\";width: 100%;border-bottom: 1px solid gray;flex-grow: 1;}#sk-container-id-1 div.sk-label:hover label.sk-toggleable__label {background-color: #d4ebff;}#sk-container-id-1 div.sk-serial::before {content: \"\";position: absolute;border-left: 1px solid gray;box-sizing: border-box;top: 0;bottom: 0;left: 50%;z-index: 0;}#sk-container-id-1 div.sk-serial {display: flex;flex-direction: column;align-items: center;background-color: white;padding-right: 0.2em;padding-left: 0.2em;position: relative;}#sk-container-id-1 div.sk-item {position: relative;z-index: 1;}#sk-container-id-1 div.sk-parallel {display: flex;align-items: stretch;justify-content: center;background-color: white;position: relative;}#sk-container-id-1 div.sk-item::before, #sk-container-id-1 div.sk-parallel-item::before {content: \"\";position: absolute;border-left: 1px solid gray;box-sizing: border-box;top: 0;bottom: 0;left: 50%;z-index: -1;}#sk-container-id-1 div.sk-parallel-item {display: flex;flex-direction: column;z-index: 1;position: relative;background-color: white;}#sk-container-id-1 div.sk-parallel-item:first-child::after {align-self: flex-end;width: 50%;}#sk-container-id-1 div.sk-parallel-item:last-child::after {align-self: flex-start;width: 50%;}#sk-container-id-1 div.sk-parallel-item:only-child::after {width: 0;}#sk-container-id-1 div.sk-dashed-wrapped {border: 1px dashed gray;margin: 0 0.4em 0.5em 0.4em;box-sizing: border-box;padding-bottom: 0.4em;background-color: white;}#sk-container-id-1 div.sk-label label {font-family: monospace;font-weight: bold;display: inline-block;line-height: 1.2em;}#sk-container-id-1 div.sk-label-container {text-align: center;}#sk-container-id-1 div.sk-container {/* jupyter's `normalize.less` sets `[hidden] { display: none; }` but bootstrap.min.css set `[hidden] { display: none !important; }` so we also need the `!important` here to be able to override the default hidden behavior on the sphinx rendered scikit-learn.org. See: https://github.com/scikit-learn/scikit-learn/issues/21755 */display: inline-block !important;position: relative;}#sk-container-id-1 div.sk-text-repr-fallback {display: none;}</style><div id=\"sk-container-id-1\" class=\"sk-top-container\"><div class=\"sk-text-repr-fallback\"><pre>ExtraTreesClassifier()</pre><b>In a Jupyter environment, please rerun this cell to show the HTML representation or trust the notebook. <br />On GitHub, the HTML representation is unable to render, please try loading this page with nbviewer.org.</b></div><div class=\"sk-container\" hidden><div class=\"sk-item\"><div class=\"sk-estimator sk-toggleable\"><input class=\"sk-toggleable__control sk-hidden--visually\" id=\"sk-estimator-id-1\" type=\"checkbox\" checked><label for=\"sk-estimator-id-1\" class=\"sk-toggleable__label sk-toggleable__label-arrow\">ExtraTreesClassifier</label><div class=\"sk-toggleable__content\"><pre>ExtraTreesClassifier()</pre></div></div></div></div></div>"
      ],
      "text/plain": [
       "ExtraTreesClassifier()"
      ]
     },
     "execution_count": 35,
     "metadata": {},
     "output_type": "execute_result"
    }
   ],
   "source": [
    "selection.fit(x, y)"
   ]
  },
  {
   "cell_type": "code",
   "execution_count": 36,
   "id": "0033576e",
   "metadata": {},
   "outputs": [
    {
     "data": {
      "text/plain": [
       "array([0.15650146, 0.04453452, 0.16442632, 0.0382207 , 0.08542757,\n",
       "       0.07450506, 0.07534115, 0.09240417, 0.01409412, 0.02671452,\n",
       "       0.08840937, 0.02767108, 0.09424349, 0.01750647])"
      ]
     },
     "execution_count": 36,
     "metadata": {},
     "output_type": "execute_result"
    }
   ],
   "source": [
    "selection.feature_importances_"
   ]
  },
  {
   "cell_type": "code",
   "execution_count": 37,
   "id": "f0e246f1",
   "metadata": {},
   "outputs": [
    {
     "data": {
      "text/plain": [
       "<AxesSubplot:>"
      ]
     },
     "execution_count": 37,
     "metadata": {},
     "output_type": "execute_result"
    },
    {
     "data": {
      "image/png": "[encoded data removed]",
      "text/plain": [
       "<Figure size 432x288 with 1 Axes>"
      ]
     },
     "metadata": {
      "needs_background": "light"
     },
     "output_type": "display_data"
    }
   ],
   "source": [
    "fea_imp = pd.Series(selection.feature_importances_, index=x.columns)\n",
    "fea_imp.nlargest().plot(kind=\"barh\")"
   ]
  },
  {
   "cell_type": "code",
   "execution_count": 38,
   "id": "e9ee33b6",
   "metadata": {},
   "outputs": [
    {
     "name": "stdout",
     "output_type": "stream",
     "text": [
      "0 15.65\n",
      "1 4.45\n",
      "2 16.44\n",
      "3 3.82\n",
      "4 8.54\n",
      "5 7.45\n",
      "6 7.53\n",
      "7 9.24\n",
      "8 1.41\n",
      "9 2.67\n",
      "10 8.84\n",
      "11 2.77\n",
      "12 9.42\n",
      "13 1.75\n"
     ]
    }
   ],
   "source": [
    "for index, val in enumerate(fea_imp):\n",
    "    print(index, round((val * 100), 2))"
   ]
  },
  {
   "cell_type": "code",
   "execution_count": 39,
   "id": "8d50eb90",
   "metadata": {},
   "outputs": [
    {
     "name": "stdout",
     "output_type": "stream",
     "text": [
      "<class 'pandas.core.frame.DataFrame'>\n",
      "RangeIndex: 32561 entries, 0 to 32560\n",
      "Data columns (total 15 columns):\n",
      " #   Column          Non-Null Count  Dtype\n",
      "---  ------          --------------  -----\n",
      " 0   age             32561 non-null  int64\n",
      " 1   workclass       32561 non-null  int32\n",
      " 2   fnlwgt          32561 non-null  int64\n",
      " 3   education       32561 non-null  int32\n",
      " 4   education-num   32561 non-null  int64\n",
      " 5   marital-status  32561 non-null  int32\n",
      " 6   occupation      32561 non-null  int32\n",
      " 7   relationship    32561 non-null  int32\n",
      " 8   race            32561 non-null  int32\n",
      " 9   sex             32561 non-null  int32\n",
      " 10  capital-gain    32561 non-null  int64\n",
      " 11  capital-loss    32561 non-null  int64\n",
      " 12  hours-per-week  32561 non-null  int64\n",
      " 13  country         32561 non-null  int32\n",
      " 14  salary          32561 non-null  int32\n",
      "dtypes: int32(9), int64(6)\n",
      "memory usage: 2.6 MB\n"
     ]
    }
   ],
   "source": [
    "df.info()"
   ]
  },
  {
   "cell_type": "code",
   "execution_count": 41,
   "id": "402939db",
   "metadata": {},
   "outputs": [],
   "source": [
    "x = x.drop(['workclass', 'education', 'race', 'sex',\n",
    "            'capital-loss', 'country', \"capital-gain\",\"relationship\"], axis=1)"
   ]
  },
  {
   "cell_type": "markdown",
   "id": "b6f9381e",
   "metadata": {},
   "source": [
    "### Feature Scaling"
   ]
  },
  {
   "cell_type": "code",
   "execution_count": 42,
   "id": "7f9aa6a4",
   "metadata": {},
   "outputs": [],
   "source": [
    "for col in x.columns:\n",
    "    scaler = StandardScaler()\n",
    "    x[col] = scaler.fit_transform(x[col].values.reshape(-1, 1))"
   ]
  },
  {
   "cell_type": "markdown",
   "id": "156918ce",
   "metadata": {},
   "source": [
    "### Fixing imbalanced dataset"
   ]
  },
  {
   "cell_type": "code",
   "execution_count": 43,
   "id": "c9d222ad",
   "metadata": {},
   "outputs": [
    {
     "data": {
      "text/plain": [
       "0    75.92%\n",
       "1    24.08%\n",
       "Name: salary, dtype: object"
      ]
     },
     "execution_count": 43,
     "metadata": {},
     "output_type": "execute_result"
    }
   ],
   "source": [
    "round(y.value_counts(normalize=True)*100, 2).astype(str) + \"%\""
   ]
  },
  {
   "cell_type": "code",
   "execution_count": 44,
   "id": "6add320e",
   "metadata": {},
   "outputs": [],
   "source": [
    "rs = RandomOverSampler(random_state=42)"
   ]
  },
  {
   "cell_type": "code",
   "execution_count": 45,
   "id": "98068796",
   "metadata": {},
   "outputs": [
    {
     "data": {
      "text/html": [
       "<style>#sk-container-id-2 {color: black;background-color: white;}#sk-container-id-2 pre{padding: 0;}#sk-container-id-2 div.sk-toggleable {background-color: white;}#sk-container-id-2 label.sk-toggleable__label {cursor: pointer;display: block;width: 100%;margin-bottom: 0;padding: 0.3em;box-sizing: border-box;text-align: center;}#sk-container-id-2 label.sk-toggleable__label-arrow:before {content: \"▸\";float: left;margin-right: 0.25em;color: #696969;}#sk-container-id-2 label.sk-toggleable__label-arrow:hover:before {color: black;}#sk-container-id-2 div.sk-estimator:hover label.sk-toggleable__label-arrow:before {color: black;}#sk-container-id-2 div.sk-toggleable__content {max-height: 0;max-width: 0;overflow: hidden;text-align: left;background-color: #f0f8ff;}#sk-container-id-2 div.sk-toggleable__content pre {margin: 0.2em;color: black;border-radius: 0.25em;background-color: #f0f8ff;}#sk-container-id-2 input.sk-toggleable__control:checked~div.sk-toggleable__content {max-height: 200px;max-width: 100%;overflow: auto;}#sk-container-id-2 input.sk-toggleable__control:checked~label.sk-toggleable__label-arrow:before {content: \"▾\";}#sk-container-id-2 div.sk-estimator input.sk-toggleable__control:checked~label.sk-toggleable__label {background-color: #d4ebff;}#sk-container-id-2 div.sk-label input.sk-toggleable__control:checked~label.sk-toggleable__label {background-color: #d4ebff;}#sk-container-id-2 input.sk-hidden--visually {border: 0;clip: rect(1px 1px 1px 1px);clip: rect(1px, 1px, 1px, 1px);height: 1px;margin: -1px;overflow: hidden;padding: 0;position: absolute;width: 1px;}#sk-container-id-2 div.sk-estimator {font-family: monospace;background-color: #f0f8ff;border: 1px dotted black;border-radius: 0.25em;box-sizing: border-box;margin-bottom: 0.5em;}#sk-container-id-2 div.sk-estimator:hover {background-color: #d4ebff;}#sk-container-id-2 div.sk-parallel-item::after {content: \"\";width: 100%;border-bottom: 1px solid gray;flex-grow: 1;}#sk-container-id-2 div.sk-label:hover label.sk-toggleable__label {background-color: #d4ebff;}#sk-container-id-2 div.sk-serial::before {content: \"\";position: absolute;border-left: 1px solid gray;box-sizing: border-box;top: 0;bottom: 0;left: 50%;z-index: 0;}#sk-container-id-2 div.sk-serial {display: flex;flex-direction: column;align-items: center;background-color: white;padding-right: 0.2em;padding-left: 0.2em;position: relative;}#sk-container-id-2 div.sk-item {position: relative;z-index: 1;}#sk-container-id-2 div.sk-parallel {display: flex;align-items: stretch;justify-content: center;background-color: white;position: relative;}#sk-container-id-2 div.sk-item::before, #sk-container-id-2 div.sk-parallel-item::before {content: \"\";position: absolute;border-left: 1px solid gray;box-sizing: border-box;top: 0;bottom: 0;left: 50%;z-index: -1;}#sk-container-id-2 div.sk-parallel-item {display: flex;flex-direction: column;z-index: 1;position: relative;background-color: white;}#sk-container-id-2 div.sk-parallel-item:first-child::after {align-self: flex-end;width: 50%;}#sk-container-id-2 div.sk-parallel-item:last-child::after {align-self: flex-start;width: 50%;}#sk-container-id-2 div.sk-parallel-item:only-child::after {width: 0;}#sk-container-id-2 div.sk-dashed-wrapped {border: 1px dashed gray;margin: 0 0.4em 0.5em 0.4em;box-sizing: border-box;padding-bottom: 0.4em;background-color: white;}#sk-container-id-2 div.sk-label label {font-family: monospace;font-weight: bold;display: inline-block;line-height: 1.2em;}#sk-container-id-2 div.sk-label-container {text-align: center;}#sk-container-id-2 div.sk-container {/* jupyter's `normalize.less` sets `[hidden] { display: none; }` but bootstrap.min.css set `[hidden] { display: none !important; }` so we also need the `!important` here to be able to override the default hidden behavior on the sphinx rendered scikit-learn.org. See: https://github.com/scikit-learn/scikit-learn/issues/21755 */display: inline-block !important;position: relative;}#sk-container-id-2 div.sk-text-repr-fallback {display: none;}</style><div id=\"sk-container-id-2\" class=\"sk-top-container\"><div class=\"sk-text-repr-fallback\"><pre>RandomOverSampler(random_state=42)</pre><b>In a Jupyter environment, please rerun this cell to show the HTML representation or trust the notebook. <br />On GitHub, the HTML representation is unable to render, please try loading this page with nbviewer.org.</b></div><div class=\"sk-container\" hidden><div class=\"sk-item\"><div class=\"sk-estimator sk-toggleable\"><input class=\"sk-toggleable__control sk-hidden--visually\" id=\"sk-estimator-id-2\" type=\"checkbox\" checked><label for=\"sk-estimator-id-2\" class=\"sk-toggleable__label sk-toggleable__label-arrow\">RandomOverSampler</label><div class=\"sk-toggleable__content\"><pre>RandomOverSampler(random_state=42)</pre></div></div></div></div></div>"
      ],
      "text/plain": [
       "RandomOverSampler(random_state=42)"
      ]
     },
     "execution_count": 45,
     "metadata": {},
     "output_type": "execute_result"
    }
   ],
   "source": [
    "rs.fit(x, y)"
   ]
  },
  {
   "cell_type": "code",
   "execution_count": 46,
   "id": "da1aaeec",
   "metadata": {},
   "outputs": [],
   "source": [
    "x_resampled , y_resampled = rs.fit_resample(x , y)"
   ]
  },
  {
   "cell_type": "code",
   "execution_count": 47,
   "id": "a063e20d",
   "metadata": {},
   "outputs": [
    {
     "data": {
      "text/plain": [
       "0    50.0%\n",
       "1    50.0%\n",
       "Name: salary, dtype: object"
      ]
     },
     "execution_count": 47,
     "metadata": {},
     "output_type": "execute_result"
    }
   ],
   "source": [
    "round(y_resampled.value_counts(normalize=True)*100 , 2).astype(str) + \"%\""
   ]
  },
  {
   "cell_type": "markdown",
   "id": "c8d5839c",
   "metadata": {},
   "source": [
    "### Creating train test split"
   ]
  },
  {
   "cell_type": "code",
   "execution_count": 48,
   "id": "71d20d48",
   "metadata": {},
   "outputs": [],
   "source": [
    "x_train , x_test , y_train , y_test = train_test_split(x, y , random_state=0 , test_size=0.3)"
   ]
  },
  {
   "cell_type": "code",
   "execution_count": 49,
   "id": "48f1c459",
   "metadata": {},
   "outputs": [
    {
     "data": {
      "text/plain": [
       "((22792, 6), (9769, 6))"
      ]
     },
     "execution_count": 49,
     "metadata": {},
     "output_type": "execute_result"
    }
   ],
   "source": [
    "x_train.shape , x_test.shape"
   ]
  },
  {
   "cell_type": "markdown",
   "id": "42df1c01",
   "metadata": {},
   "source": [
    "# 3. Model Building"
   ]
  },
  {
   "cell_type": "markdown",
   "id": "7f289bdf",
   "metadata": {},
   "source": [
    "###  Logistic Regression"
   ]
  },
  {
   "cell_type": "code",
   "execution_count": 50,
   "id": "c8287ed9",
   "metadata": {},
   "outputs": [],
   "source": [
    "lg_reg = LogisticRegression(random_state=42)"
   ]
  },
  {
   "cell_type": "code",
   "execution_count": 51,
   "id": "a5b32d99",
   "metadata": {},
   "outputs": [
    {
     "data": {
      "text/html": [
       "<style>#sk-container-id-3 {color: black;background-color: white;}#sk-container-id-3 pre{padding: 0;}#sk-container-id-3 div.sk-toggleable {background-color: white;}#sk-container-id-3 label.sk-toggleable__label {cursor: pointer;display: block;width: 100%;margin-bottom: 0;padding: 0.3em;box-sizing: border-box;text-align: center;}#sk-container-id-3 label.sk-toggleable__label-arrow:before {content: \"▸\";float: left;margin-right: 0.25em;color: #696969;}#sk-container-id-3 label.sk-toggleable__label-arrow:hover:before {color: black;}#sk-container-id-3 div.sk-estimator:hover label.sk-toggleable__label-arrow:before {color: black;}#sk-container-id-3 div.sk-toggleable__content {max-height: 0;max-width: 0;overflow: hidden;text-align: left;background-color: #f0f8ff;}#sk-container-id-3 div.sk-toggleable__content pre {margin: 0.2em;color: black;border-radius: 0.25em;background-color: #f0f8ff;}#sk-container-id-3 input.sk-toggleable__control:checked~div.sk-toggleable__content {max-height: 200px;max-width: 100%;overflow: auto;}#sk-container-id-3 input.sk-toggleable__control:checked~label.sk-toggleable__label-arrow:before {content: \"▾\";}#sk-container-id-3 div.sk-estimator input.sk-toggleable__control:checked~label.sk-toggleable__label {background-color: #d4ebff;}#sk-container-id-3 div.sk-label input.sk-toggleable__control:checked~label.sk-toggleable__label {background-color: #d4ebff;}#sk-container-id-3 input.sk-hidden--visually {border: 0;clip: rect(1px 1px 1px 1px);clip: rect(1px, 1px, 1px, 1px);height: 1px;margin: -1px;overflow: hidden;padding: 0;position: absolute;width: 1px;}#sk-container-id-3 div.sk-estimator {font-family: monospace;background-color: #f0f8ff;border: 1px dotted black;border-radius: 0.25em;box-sizing: border-box;margin-bottom: 0.5em;}#sk-container-id-3 div.sk-estimator:hover {background-color: #d4ebff;}#sk-container-id-3 div.sk-parallel-item::after {content: \"\";width: 100%;border-bottom: 1px solid gray;flex-grow: 1;}#sk-container-id-3 div.sk-label:hover label.sk-toggleable__label {background-color: #d4ebff;}#sk-container-id-3 div.sk-serial::before {content: \"\";position: absolute;border-left: 1px solid gray;box-sizing: border-box;top: 0;bottom: 0;left: 50%;z-index: 0;}#sk-container-id-3 div.sk-serial {display: flex;flex-direction: column;align-items: center;background-color: white;padding-right: 0.2em;padding-left: 0.2em;position: relative;}#sk-container-id-3 div.sk-item {position: relative;z-index: 1;}#sk-container-id-3 div.sk-parallel {display: flex;align-items: stretch;justify-content: center;background-color: white;position: relative;}#sk-container-id-3 div.sk-item::before, #sk-container-id-3 div.sk-parallel-item::before {content: \"\";position: absolute;border-left: 1px solid gray;box-sizing: border-box;top: 0;bottom: 0;left: 50%;z-index: -1;}#sk-container-id-3 div.sk-parallel-item {display: flex;flex-direction: column;z-index: 1;position: relative;background-color: white;}#sk-container-id-3 div.sk-parallel-item:first-child::after {align-self: flex-end;width: 50%;}#sk-container-id-3 div.sk-parallel-item:last-child::after {align-self: flex-start;width: 50%;}#sk-container-id-3 div.sk-parallel-item:only-child::after {width: 0;}#sk-container-id-3 div.sk-dashed-wrapped {border: 1px dashed gray;margin: 0 0.4em 0.5em 0.4em;box-sizing: border-box;padding-bottom: 0.4em;background-color: white;}#sk-container-id-3 div.sk-label label {font-family: monospace;font-weight: bold;display: inline-block;line-height: 1.2em;}#sk-container-id-3 div.sk-label-container {text-align: center;}#sk-container-id-3 div.sk-container {/* jupyter's `normalize.less` sets `[hidden] { display: none; }` but bootstrap.min.css set `[hidden] { display: none !important; }` so we also need the `!important` here to be able to override the default hidden behavior on the sphinx rendered scikit-learn.org. See: https://github.com/scikit-learn/scikit-learn/issues/21755 */display: inline-block !important;position: relative;}#sk-container-id-3 div.sk-text-repr-fallback {display: none;}</style><div id=\"sk-container-id-3\" class=\"sk-top-container\"><div class=\"sk-text-repr-fallback\"><pre>LogisticRegression(random_state=42)</pre><b>In a Jupyter environment, please rerun this cell to show the HTML representation or trust the notebook. <br />On GitHub, the HTML representation is unable to render, please try loading this page with nbviewer.org.</b></div><div class=\"sk-container\" hidden><div class=\"sk-item\"><div class=\"sk-estimator sk-toggleable\"><input class=\"sk-toggleable__control sk-hidden--visually\" id=\"sk-estimator-id-3\" type=\"checkbox\" checked><label for=\"sk-estimator-id-3\" class=\"sk-toggleable__label sk-toggleable__label-arrow\">LogisticRegression</label><div class=\"sk-toggleable__content\"><pre>LogisticRegression(random_state=42)</pre></div></div></div></div></div>"
      ],
      "text/plain": [
       "LogisticRegression(random_state=42)"
      ]
     },
     "execution_count": 51,
     "metadata": {},
     "output_type": "execute_result"
    }
   ],
   "source": [
    "lg_reg.fit(x_train, y_train)"
   ]
  },
  {
   "cell_type": "code",
   "execution_count": 52,
   "id": "cad21853",
   "metadata": {},
   "outputs": [],
   "source": [
    "y_pred_lg_reg = lg_reg.predict(x_test)"
   ]
  },
  {
   "cell_type": "code",
   "execution_count": 53,
   "id": "4e6c5258",
   "metadata": {},
   "outputs": [
    {
     "data": {
      "text/plain": [
       "array([0, 0, 0, ..., 1, 0, 0])"
      ]
     },
     "execution_count": 53,
     "metadata": {},
     "output_type": "execute_result"
    }
   ],
   "source": [
    "y_pred_lg_reg"
   ]
  },
  {
   "cell_type": "markdown",
   "id": "a6a50618",
   "metadata": {},
   "source": [
    "### Decision Tree Classifier"
   ]
  },
  {
   "cell_type": "code",
   "execution_count": 54,
   "id": "265c194f",
   "metadata": {},
   "outputs": [],
   "source": [
    "tree = DecisionTreeClassifier(random_state=42)"
   ]
  },
  {
   "cell_type": "code",
   "execution_count": 55,
   "id": "b7be31fe",
   "metadata": {},
   "outputs": [
    {
     "data": {
      "text/html": [
       "<style>#sk-container-id-4 {color: black;background-color: white;}#sk-container-id-4 pre{padding: 0;}#sk-container-id-4 div.sk-toggleable {background-color: white;}#sk-container-id-4 label.sk-toggleable__label {cursor: pointer;display: block;width: 100%;margin-bottom: 0;padding: 0.3em;box-sizing: border-box;text-align: center;}#sk-container-id-4 label.sk-toggleable__label-arrow:before {content: \"▸\";float: left;margin-right: 0.25em;color: #696969;}#sk-container-id-4 label.sk-toggleable__label-arrow:hover:before {color: black;}#sk-container-id-4 div.sk-estimator:hover label.sk-toggleable__label-arrow:before {color: black;}#sk-container-id-4 div.sk-toggleable__content {max-height: 0;max-width: 0;overflow: hidden;text-align: left;background-color: #f0f8ff;}#sk-container-id-4 div.sk-toggleable__content pre {margin: 0.2em;color: black;border-radius: 0.25em;background-color: #f0f8ff;}#sk-container-id-4 input.sk-toggleable__control:checked~div.sk-toggleable__content {max-height: 200px;max-width: 100%;overflow: auto;}#sk-container-id-4 input.sk-toggleable__control:checked~label.sk-toggleable__label-arrow:before {content: \"▾\";}#sk-container-id-4 div.sk-estimator input.sk-toggleable__control:checked~label.sk-toggleable__label {background-color: #d4ebff;}#sk-container-id-4 div.sk-label input.sk-toggleable__control:checked~label.sk-toggleable__label {background-color: #d4ebff;}#sk-container-id-4 input.sk-hidden--visually {border: 0;clip: rect(1px 1px 1px 1px);clip: rect(1px, 1px, 1px, 1px);height: 1px;margin: -1px;overflow: hidden;padding: 0;position: absolute;width: 1px;}#sk-container-id-4 div.sk-estimator {font-family: monospace;background-color: #f0f8ff;border: 1px dotted black;border-radius: 0.25em;box-sizing: border-box;margin-bottom: 0.5em;}#sk-container-id-4 div.sk-estimator:hover {background-color: #d4ebff;}#sk-container-id-4 div.sk-parallel-item::after {content: \"\";width: 100%;border-bottom: 1px solid gray;flex-grow: 1;}#sk-container-id-4 div.sk-label:hover label.sk-toggleable__label {background-color: #d4ebff;}#sk-container-id-4 div.sk-serial::before {content: \"\";position: absolute;border-left: 1px solid gray;box-sizing: border-box;top: 0;bottom: 0;left: 50%;z-index: 0;}#sk-container-id-4 div.sk-serial {display: flex;flex-direction: column;align-items: center;background-color: white;padding-right: 0.2em;padding-left: 0.2em;position: relative;}#sk-container-id-4 div.sk-item {position: relative;z-index: 1;}#sk-container-id-4 div.sk-parallel {display: flex;align-items: stretch;justify-content: center;background-color: white;position: relative;}#sk-container-id-4 div.sk-item::before, #sk-container-id-4 div.sk-parallel-item::before {content: \"\";position: absolute;border-left: 1px solid gray;box-sizing: border-box;top: 0;bottom: 0;left: 50%;z-index: -1;}#sk-container-id-4 div.sk-parallel-item {display: flex;flex-direction: column;z-index: 1;position: relative;background-color: white;}#sk-container-id-4 div.sk-parallel-item:first-child::after {align-self: flex-end;width: 50%;}#sk-container-id-4 div.sk-parallel-item:last-child::after {align-self: flex-start;width: 50%;}#sk-container-id-4 div.sk-parallel-item:only-child::after {width: 0;}#sk-container-id-4 div.sk-dashed-wrapped {border: 1px dashed gray;margin: 0 0.4em 0.5em 0.4em;box-sizing: border-box;padding-bottom: 0.4em;background-color: white;}#sk-container-id-4 div.sk-label label {font-family: monospace;font-weight: bold;display: inline-block;line-height: 1.2em;}#sk-container-id-4 div.sk-label-container {text-align: center;}#sk-container-id-4 div.sk-container {/* jupyter's `normalize.less` sets `[hidden] { display: none; }` but bootstrap.min.css set `[hidden] { display: none !important; }` so we also need the `!important` here to be able to override the default hidden behavior on the sphinx rendered scikit-learn.org. See: https://github.com/scikit-learn/scikit-learn/issues/21755 */display: inline-block !important;position: relative;}#sk-container-id-4 div.sk-text-repr-fallback {display: none;}</style><div id=\"sk-container-id-4\" class=\"sk-top-container\"><div class=\"sk-text-repr-fallback\"><pre>DecisionTreeClassifier(random_state=42)</pre><b>In a Jupyter environment, please rerun this cell to show the HTML representation or trust the notebook. <br />On GitHub, the HTML representation is unable to render, please try loading this page with nbviewer.org.</b></div><div class=\"sk-container\" hidden><div class=\"sk-item\"><div class=\"sk-estimator sk-toggleable\"><input class=\"sk-toggleable__control sk-hidden--visually\" id=\"sk-estimator-id-4\" type=\"checkbox\" checked><label for=\"sk-estimator-id-4\" class=\"sk-toggleable__label sk-toggleable__label-arrow\">DecisionTreeClassifier</label><div class=\"sk-toggleable__content\"><pre>DecisionTreeClassifier(random_state=42)</pre></div></div></div></div></div>"
      ],
      "text/plain": [
       "DecisionTreeClassifier(random_state=42)"
      ]
     },
     "execution_count": 55,
     "metadata": {},
     "output_type": "execute_result"
    }
   ],
   "source": [
    "tree.fit(x_train , y_train)"
   ]
  },
  {
   "cell_type": "code",
   "execution_count": 56,
   "id": "7fc84a53",
   "metadata": {},
   "outputs": [],
   "source": [
    "y_pred_tree = tree.predict(x_test)"
   ]
  },
  {
   "cell_type": "code",
   "execution_count": 57,
   "id": "47f53a59",
   "metadata": {},
   "outputs": [
    {
     "data": {
      "text/plain": [
       "array([0, 0, 0, ..., 0, 0, 0])"
      ]
     },
     "execution_count": 57,
     "metadata": {},
     "output_type": "execute_result"
    }
   ],
   "source": [
    "y_pred_tree"
   ]
  },
  {
   "cell_type": "markdown",
   "id": "2096ddac",
   "metadata": {},
   "source": [
    "### Random Forest Classifier"
   ]
  },
  {
   "cell_type": "code",
   "execution_count": 58,
   "id": "7664f628",
   "metadata": {},
   "outputs": [],
   "source": [
    "ran_for = RandomForestClassifier(random_state=42)"
   ]
  },
  {
   "cell_type": "code",
   "execution_count": 59,
   "id": "e59a3289",
   "metadata": {},
   "outputs": [
    {
     "data": {
      "text/html": [
       "<style>#sk-container-id-5 {color: black;background-color: white;}#sk-container-id-5 pre{padding: 0;}#sk-container-id-5 div.sk-toggleable {background-color: white;}#sk-container-id-5 label.sk-toggleable__label {cursor: pointer;display: block;width: 100%;margin-bottom: 0;padding: 0.3em;box-sizing: border-box;text-align: center;}#sk-container-id-5 label.sk-toggleable__label-arrow:before {content: \"▸\";float: left;margin-right: 0.25em;color: #696969;}#sk-container-id-5 label.sk-toggleable__label-arrow:hover:before {color: black;}#sk-container-id-5 div.sk-estimator:hover label.sk-toggleable__label-arrow:before {color: black;}#sk-container-id-5 div.sk-toggleable__content {max-height: 0;max-width: 0;overflow: hidden;text-align: left;background-color: #f0f8ff;}#sk-container-id-5 div.sk-toggleable__content pre {margin: 0.2em;color: black;border-radius: 0.25em;background-color: #f0f8ff;}#sk-container-id-5 input.sk-toggleable__control:checked~div.sk-toggleable__content {max-height: 200px;max-width: 100%;overflow: auto;}#sk-container-id-5 input.sk-toggleable__control:checked~label.sk-toggleable__label-arrow:before {content: \"▾\";}#sk-container-id-5 div.sk-estimator input.sk-toggleable__control:checked~label.sk-toggleable__label {background-color: #d4ebff;}#sk-container-id-5 div.sk-label input.sk-toggleable__control:checked~label.sk-toggleable__label {background-color: #d4ebff;}#sk-container-id-5 input.sk-hidden--visually {border: 0;clip: rect(1px 1px 1px 1px);clip: rect(1px, 1px, 1px, 1px);height: 1px;margin: -1px;overflow: hidden;padding: 0;position: absolute;width: 1px;}#sk-container-id-5 div.sk-estimator {font-family: monospace;background-color: #f0f8ff;border: 1px dotted black;border-radius: 0.25em;box-sizing: border-box;margin-bottom: 0.5em;}#sk-container-id-5 div.sk-estimator:hover {background-color: #d4ebff;}#sk-container-id-5 div.sk-parallel-item::after {content: \"\";width: 100%;border-bottom: 1px solid gray;flex-grow: 1;}#sk-container-id-5 div.sk-label:hover label.sk-toggleable__label {background-color: #d4ebff;}#sk-container-id-5 div.sk-serial::before {content: \"\";position: absolute;border-left: 1px solid gray;box-sizing: border-box;top: 0;bottom: 0;left: 50%;z-index: 0;}#sk-container-id-5 div.sk-serial {display: flex;flex-direction: column;align-items: center;background-color: white;padding-right: 0.2em;padding-left: 0.2em;position: relative;}#sk-container-id-5 div.sk-item {position: relative;z-index: 1;}#sk-container-id-5 div.sk-parallel {display: flex;align-items: stretch;justify-content: center;background-color: white;position: relative;}#sk-container-id-5 div.sk-item::before, #sk-container-id-5 div.sk-parallel-item::before {content: \"\";position: absolute;border-left: 1px solid gray;box-sizing: border-box;top: 0;bottom: 0;left: 50%;z-index: -1;}#sk-container-id-5 div.sk-parallel-item {display: flex;flex-direction: column;z-index: 1;position: relative;background-color: white;}#sk-container-id-5 div.sk-parallel-item:first-child::after {align-self: flex-end;width: 50%;}#sk-container-id-5 div.sk-parallel-item:last-child::after {align-self: flex-start;width: 50%;}#sk-container-id-5 div.sk-parallel-item:only-child::after {width: 0;}#sk-container-id-5 div.sk-dashed-wrapped {border: 1px dashed gray;margin: 0 0.4em 0.5em 0.4em;box-sizing: border-box;padding-bottom: 0.4em;background-color: white;}#sk-container-id-5 div.sk-label label {font-family: monospace;font-weight: bold;display: inline-block;line-height: 1.2em;}#sk-container-id-5 div.sk-label-container {text-align: center;}#sk-container-id-5 div.sk-container {/* jupyter's `normalize.less` sets `[hidden] { display: none; }` but bootstrap.min.css set `[hidden] { display: none !important; }` so we also need the `!important` here to be able to override the default hidden behavior on the sphinx rendered scikit-learn.org. See: https://github.com/scikit-learn/scikit-learn/issues/21755 */display: inline-block !important;position: relative;}#sk-container-id-5 div.sk-text-repr-fallback {display: none;}</style><div id=\"sk-container-id-5\" class=\"sk-top-container\"><div class=\"sk-text-repr-fallback\"><pre>RandomForestClassifier(random_state=42)</pre><b>In a Jupyter environment, please rerun this cell to show the HTML representation or trust the notebook. <br />On GitHub, the HTML representation is unable to render, please try loading this page with nbviewer.org.</b></div><div class=\"sk-container\" hidden><div class=\"sk-item\"><div class=\"sk-estimator sk-toggleable\"><input class=\"sk-toggleable__control sk-hidden--visually\" id=\"sk-estimator-id-5\" type=\"checkbox\" checked><label for=\"sk-estimator-id-5\" class=\"sk-toggleable__label sk-toggleable__label-arrow\">RandomForestClassifier</label><div class=\"sk-toggleable__content\"><pre>RandomForestClassifier(random_state=42)</pre></div></div></div></div></div>"
      ],
      "text/plain": [
       "RandomForestClassifier(random_state=42)"
      ]
     },
     "execution_count": 59,
     "metadata": {},
     "output_type": "execute_result"
    }
   ],
   "source": [
    "ran_for.fit(x_train , y_train)"
   ]
  },
  {
   "cell_type": "code",
   "execution_count": 60,
   "id": "ac6aa19a",
   "metadata": {},
   "outputs": [],
   "source": [
    "y_pred_ran_for = ran_for.predict(x_test)"
   ]
  },
  {
   "cell_type": "code",
   "execution_count": 61,
   "id": "f0a6f1f9",
   "metadata": {},
   "outputs": [
    {
     "data": {
      "text/plain": [
       "array([0, 0, 0, ..., 1, 0, 0])"
      ]
     },
     "execution_count": 61,
     "metadata": {},
     "output_type": "execute_result"
    }
   ],
   "source": [
    "y_pred_ran_for"
   ]
  },
  {
   "cell_type": "markdown",
   "id": "fdbbf4b5",
   "metadata": {},
   "source": [
    "### Support Vector Classifier"
   ]
  },
  {
   "cell_type": "code",
   "execution_count": 62,
   "id": "c0cfbd43",
   "metadata": {},
   "outputs": [],
   "source": [
    "sv = SVC(random_state=42)"
   ]
  },
  {
   "cell_type": "code",
   "execution_count": 63,
   "id": "cac53e2b",
   "metadata": {},
   "outputs": [
    {
     "data": {
      "text/html": [
       "<style>#sk-container-id-6 {color: black;background-color: white;}#sk-container-id-6 pre{padding: 0;}#sk-container-id-6 div.sk-toggleable {background-color: white;}#sk-container-id-6 label.sk-toggleable__label {cursor: pointer;display: block;width: 100%;margin-bottom: 0;padding: 0.3em;box-sizing: border-box;text-align: center;}#sk-container-id-6 label.sk-toggleable__label-arrow:before {content: \"▸\";float: left;margin-right: 0.25em;color: #696969;}#sk-container-id-6 label.sk-toggleable__label-arrow:hover:before {color: black;}#sk-container-id-6 div.sk-estimator:hover label.sk-toggleable__label-arrow:before {color: black;}#sk-container-id-6 div.sk-toggleable__content {max-height: 0;max-width: 0;overflow: hidden;text-align: left;background-color: #f0f8ff;}#sk-container-id-6 div.sk-toggleable__content pre {margin: 0.2em;color: black;border-radius: 0.25em;background-color: #f0f8ff;}#sk-container-id-6 input.sk-toggleable__control:checked~div.sk-toggleable__content {max-height: 200px;max-width: 100%;overflow: auto;}#sk-container-id-6 input.sk-toggleable__control:checked~label.sk-toggleable__label-arrow:before {content: \"▾\";}#sk-container-id-6 div.sk-estimator input.sk-toggleable__control:checked~label.sk-toggleable__label {background-color: #d4ebff;}#sk-container-id-6 div.sk-label input.sk-toggleable__control:checked~label.sk-toggleable__label {background-color: #d4ebff;}#sk-container-id-6 input.sk-hidden--visually {border: 0;clip: rect(1px 1px 1px 1px);clip: rect(1px, 1px, 1px, 1px);height: 1px;margin: -1px;overflow: hidden;padding: 0;position: absolute;width: 1px;}#sk-container-id-6 div.sk-estimator {font-family: monospace;background-color: #f0f8ff;border: 1px dotted black;border-radius: 0.25em;box-sizing: border-box;margin-bottom: 0.5em;}#sk-container-id-6 div.sk-estimator:hover {background-color: #d4ebff;}#sk-container-id-6 div.sk-parallel-item::after {content: \"\";width: 100%;border-bottom: 1px solid gray;flex-grow: 1;}#sk-container-id-6 div.sk-label:hover label.sk-toggleable__label {background-color: #d4ebff;}#sk-container-id-6 div.sk-serial::before {content: \"\";position: absolute;border-left: 1px solid gray;box-sizing: border-box;top: 0;bottom: 0;left: 50%;z-index: 0;}#sk-container-id-6 div.sk-serial {display: flex;flex-direction: column;align-items: center;background-color: white;padding-right: 0.2em;padding-left: 0.2em;position: relative;}#sk-container-id-6 div.sk-item {position: relative;z-index: 1;}#sk-container-id-6 div.sk-parallel {display: flex;align-items: stretch;justify-content: center;background-color: white;position: relative;}#sk-container-id-6 div.sk-item::before, #sk-container-id-6 div.sk-parallel-item::before {content: \"\";position: absolute;border-left: 1px solid gray;box-sizing: border-box;top: 0;bottom: 0;left: 50%;z-index: -1;}#sk-container-id-6 div.sk-parallel-item {display: flex;flex-direction: column;z-index: 1;position: relative;background-color: white;}#sk-container-id-6 div.sk-parallel-item:first-child::after {align-self: flex-end;width: 50%;}#sk-container-id-6 div.sk-parallel-item:last-child::after {align-self: flex-start;width: 50%;}#sk-container-id-6 div.sk-parallel-item:only-child::after {width: 0;}#sk-container-id-6 div.sk-dashed-wrapped {border: 1px dashed gray;margin: 0 0.4em 0.5em 0.4em;box-sizing: border-box;padding-bottom: 0.4em;background-color: white;}#sk-container-id-6 div.sk-label label {font-family: monospace;font-weight: bold;display: inline-block;line-height: 1.2em;}#sk-container-id-6 div.sk-label-container {text-align: center;}#sk-container-id-6 div.sk-container {/* jupyter's `normalize.less` sets `[hidden] { display: none; }` but bootstrap.min.css set `[hidden] { display: none !important; }` so we also need the `!important` here to be able to override the default hidden behavior on the sphinx rendered scikit-learn.org. See: https://github.com/scikit-learn/scikit-learn/issues/21755 */display: inline-block !important;position: relative;}#sk-container-id-6 div.sk-text-repr-fallback {display: none;}</style><div id=\"sk-container-id-6\" class=\"sk-top-container\"><div class=\"sk-text-repr-fallback\"><pre>SVC(random_state=42)</pre><b>In a Jupyter environment, please rerun this cell to show the HTML representation or trust the notebook. <br />On GitHub, the HTML representation is unable to render, please try loading this page with nbviewer.org.</b></div><div class=\"sk-container\" hidden><div class=\"sk-item\"><div class=\"sk-estimator sk-toggleable\"><input class=\"sk-toggleable__control sk-hidden--visually\" id=\"sk-estimator-id-6\" type=\"checkbox\" checked><label for=\"sk-estimator-id-6\" class=\"sk-toggleable__label sk-toggleable__label-arrow\">SVC</label><div class=\"sk-toggleable__content\"><pre>SVC(random_state=42)</pre></div></div></div></div></div>"
      ],
      "text/plain": [
       "SVC(random_state=42)"
      ]
     },
     "execution_count": 63,
     "metadata": {},
     "output_type": "execute_result"
    }
   ],
   "source": [
    "sv.fit(x_train, y_train)"
   ]
  },
  {
   "cell_type": "code",
   "execution_count": 64,
   "id": "27bd8ae5",
   "metadata": {},
   "outputs": [],
   "source": [
    "y_pred_sv = sv.predict(x_test)"
   ]
  },
  {
   "cell_type": "code",
   "execution_count": 65,
   "id": "2b514a66",
   "metadata": {},
   "outputs": [
    {
     "data": {
      "text/plain": [
       "array([0, 0, 0, ..., 1, 0, 0])"
      ]
     },
     "execution_count": 65,
     "metadata": {},
     "output_type": "execute_result"
    }
   ],
   "source": [
    "y_pred_sv"
   ]
  },
  {
   "cell_type": "markdown",
   "id": "40518aec",
   "metadata": {},
   "source": [
    "# 4. Model Evaluation"
   ]
  },
  {
   "cell_type": "code",
   "execution_count": 66,
   "id": "e4de5c3e",
   "metadata": {},
   "outputs": [
    {
     "name": "stdout",
     "output_type": "stream",
     "text": [
      "LogisticRegression: \n",
      "Accuracy score 78.91\n",
      "f1 score 44.35\n"
     ]
    }
   ],
   "source": [
    "print(\"LogisticRegression: \")\n",
    "print(\"Accuracy score\", round(accuracy_score(y_test , y_pred_lg_reg)*100, 2))\n",
    "print(\"f1 score\", round(f1_score(y_test , y_pred_lg_reg)*100 , 2))"
   ]
  },
  {
   "cell_type": "code",
   "execution_count": 67,
   "id": "591c0978",
   "metadata": {},
   "outputs": [
    {
     "name": "stdout",
     "output_type": "stream",
     "text": [
      "Decision Tree Classifier\n",
      "Accuracy score 77.19\n"
     ]
    }
   ],
   "source": [
    "print(\"Decision Tree Classifier\")\n",
    "print(\"Accuracy score\", round(accuracy_score(y_test , y_pred_tree)*100, 2))"
   ]
  },
  {
   "cell_type": "code",
   "execution_count": 68,
   "id": "1843f26d",
   "metadata": {},
   "outputs": [
    {
     "name": "stdout",
     "output_type": "stream",
     "text": [
      "Random Forest Classifier\n",
      "Accuracy score  81.84\n"
     ]
    }
   ],
   "source": [
    "print(\"Random Forest Classifier\")\n",
    "print(\"Accuracy score \", round(accuracy_score(y_test , y_pred_ran_for)*100, 2))"
   ]
  },
  {
   "cell_type": "markdown",
   "id": "6614101d",
   "metadata": {},
   "source": [
    "# 5. Hyperparameter Tuning"
   ]
  },
  {
   "cell_type": "code",
   "execution_count": 69,
   "id": "77c5f356",
   "metadata": {},
   "outputs": [],
   "source": [
    "n_estimators = [int(x) for x in np.linspace(start=200 , stop=2000 , num=10)]\n",
    "\n",
    "max_features = [\"sqrt\", \"log2\"]\n",
    "\n",
    "max_depth = [int(x) for x in np.linspace(10 , 1000 , 10)]\n",
    "\n",
    "min_samples_leaf = [1, 2, 4, 6 ,8]\n",
    "\n",
    "min_samples_splits = [1 , 5, 10 , 15 , 20]\n",
    "\n",
    "criterion = [\"gini\", \"entropy\", \"log_loss\"]\n",
    "\n",
    "param_grid = {\n",
    "    \"n_estimators\": n_estimators,\n",
    "    \"max_features\": max_features,\n",
    "    \"max_depth\": max_depth,\n",
    "    \"min_samples_leaf\": min_samples_leaf,\n",
    "    \"min_samples_split\": min_samples_splits,\n",
    "    \"criterion\": criterion\n",
    "}"
   ]
  },
  {
   "cell_type": "code",
   "execution_count": 70,
   "id": "59e298f6",
   "metadata": {},
   "outputs": [
    {
     "data": {
      "text/plain": [
       "{'n_estimators': [200, 400, 600, 800, 1000, 1200, 1400, 1600, 1800, 2000],\n",
       " 'max_features': ['sqrt', 'log2'],\n",
       " 'max_depth': [10, 120, 230, 340, 450, 560, 670, 780, 890, 1000],\n",
       " 'min_samples_leaf': [1, 2, 4, 6, 8],\n",
       " 'min_samples_split': [1, 5, 10, 15, 20],\n",
       " 'criterion': ['gini', 'entropy', 'log_loss']}"
      ]
     },
     "execution_count": 70,
     "metadata": {},
     "output_type": "execute_result"
    }
   ],
   "source": [
    "param_grid"
   ]
  },
  {
   "cell_type": "code",
   "execution_count": 71,
   "id": "1008d971",
   "metadata": {},
   "outputs": [],
   "source": [
    "rn = RandomForestClassifier()\n",
    "rf_randomcv = RandomizedSearchCV(estimator=rn,param_distributions=param_grid , cv=5 , n_iter=10 ,verbose=2 , random_state=100, n_jobs=1)"
   ]
  },
  {
   "cell_type": "code",
   "execution_count": 72,
   "id": "f7cb80ab",
   "metadata": {
    "scrolled": true
   },
   "outputs": [
    {
     "name": "stdout",
     "output_type": "stream",
     "text": [
      "Fitting 5 folds for each of 10 candidates, totalling 50 fits\n",
      "[CV] END criterion=entropy, max_depth=120, max_features=sqrt, min_samples_leaf=4, min_samples_split=20, n_estimators=200; total time=   7.9s\n",
      "[CV] END criterion=entropy, max_depth=120, max_features=sqrt, min_samples_leaf=4, min_samples_split=20, n_estimators=200; total time=  11.8s\n",
      "[CV] END criterion=entropy, max_depth=120, max_features=sqrt, min_samples_leaf=4, min_samples_split=20, n_estimators=200; total time=   5.5s\n",
      "[CV] END criterion=entropy, max_depth=120, max_features=sqrt, min_samples_leaf=4, min_samples_split=20, n_estimators=200; total time=   7.3s\n",
      "[CV] END criterion=entropy, max_depth=120, max_features=sqrt, min_samples_leaf=4, min_samples_split=20, n_estimators=200; total time=  10.8s\n",
      "[CV] END criterion=entropy, max_depth=340, max_features=log2, min_samples_leaf=6, min_samples_split=15, n_estimators=1400; total time= 1.3min\n",
      "[CV] END criterion=entropy, max_depth=340, max_features=log2, min_samples_leaf=6, min_samples_split=15, n_estimators=1400; total time=  56.1s\n",
      "[CV] END criterion=entropy, max_depth=340, max_features=log2, min_samples_leaf=6, min_samples_split=15, n_estimators=1400; total time=  39.5s\n",
      "[CV] END criterion=entropy, max_depth=340, max_features=log2, min_samples_leaf=6, min_samples_split=15, n_estimators=1400; total time=  39.6s\n",
      "[CV] END criterion=entropy, max_depth=340, max_features=log2, min_samples_leaf=6, min_samples_split=15, n_estimators=1400; total time=  40.3s\n",
      "[CV] END criterion=log_loss, max_depth=890, max_features=sqrt, min_samples_leaf=4, min_samples_split=20, n_estimators=1600; total time=  46.5s\n",
      "[CV] END criterion=log_loss, max_depth=890, max_features=sqrt, min_samples_leaf=4, min_samples_split=20, n_estimators=1600; total time=  45.9s\n",
      "[CV] END criterion=log_loss, max_depth=890, max_features=sqrt, min_samples_leaf=4, min_samples_split=20, n_estimators=1600; total time=  49.7s\n",
      "[CV] END criterion=log_loss, max_depth=890, max_features=sqrt, min_samples_leaf=4, min_samples_split=20, n_estimators=1600; total time=  52.9s\n",
      "[CV] END criterion=log_loss, max_depth=890, max_features=sqrt, min_samples_leaf=4, min_samples_split=20, n_estimators=1600; total time=  45.7s\n",
      "[CV] END criterion=entropy, max_depth=670, max_features=sqrt, min_samples_leaf=1, min_samples_split=15, n_estimators=2000; total time= 1.1min\n",
      "[CV] END criterion=entropy, max_depth=670, max_features=sqrt, min_samples_leaf=1, min_samples_split=15, n_estimators=2000; total time= 1.1min\n",
      "[CV] END criterion=entropy, max_depth=670, max_features=sqrt, min_samples_leaf=1, min_samples_split=15, n_estimators=2000; total time= 1.6min\n",
      "[CV] END criterion=entropy, max_depth=670, max_features=sqrt, min_samples_leaf=1, min_samples_split=15, n_estimators=2000; total time= 1.8min\n",
      "[CV] END criterion=entropy, max_depth=670, max_features=sqrt, min_samples_leaf=1, min_samples_split=15, n_estimators=2000; total time= 1.1min\n",
      "[CV] END criterion=log_loss, max_depth=450, max_features=sqrt, min_samples_leaf=4, min_samples_split=5, n_estimators=2000; total time= 1.1min\n",
      "[CV] END criterion=log_loss, max_depth=450, max_features=sqrt, min_samples_leaf=4, min_samples_split=5, n_estimators=2000; total time= 1.1min\n",
      "[CV] END criterion=log_loss, max_depth=450, max_features=sqrt, min_samples_leaf=4, min_samples_split=5, n_estimators=2000; total time= 1.1min\n",
      "[CV] END criterion=log_loss, max_depth=450, max_features=sqrt, min_samples_leaf=4, min_samples_split=5, n_estimators=2000; total time= 1.0min\n",
      "[CV] END criterion=log_loss, max_depth=450, max_features=sqrt, min_samples_leaf=4, min_samples_split=5, n_estimators=2000; total time= 1.0min\n",
      "[CV] END criterion=gini, max_depth=10, max_features=sqrt, min_samples_leaf=2, min_samples_split=10, n_estimators=2000; total time=  39.8s\n",
      "[CV] END criterion=gini, max_depth=10, max_features=sqrt, min_samples_leaf=2, min_samples_split=10, n_estimators=2000; total time=  39.4s\n",
      "[CV] END criterion=gini, max_depth=10, max_features=sqrt, min_samples_leaf=2, min_samples_split=10, n_estimators=2000; total time=  47.7s\n",
      "[CV] END criterion=gini, max_depth=10, max_features=sqrt, min_samples_leaf=2, min_samples_split=10, n_estimators=2000; total time= 1.2min\n",
      "[CV] END criterion=gini, max_depth=10, max_features=sqrt, min_samples_leaf=2, min_samples_split=10, n_estimators=2000; total time=  57.5s\n",
      "[CV] END criterion=log_loss, max_depth=890, max_features=sqrt, min_samples_leaf=8, min_samples_split=5, n_estimators=1800; total time= 1.3min\n",
      "[CV] END criterion=log_loss, max_depth=890, max_features=sqrt, min_samples_leaf=8, min_samples_split=5, n_estimators=1800; total time=  58.5s\n",
      "[CV] END criterion=log_loss, max_depth=890, max_features=sqrt, min_samples_leaf=8, min_samples_split=5, n_estimators=1800; total time= 1.6min\n",
      "[CV] END criterion=log_loss, max_depth=890, max_features=sqrt, min_samples_leaf=8, min_samples_split=5, n_estimators=1800; total time=  57.2s\n",
      "[CV] END criterion=log_loss, max_depth=890, max_features=sqrt, min_samples_leaf=8, min_samples_split=5, n_estimators=1800; total time=  56.0s\n",
      "[CV] END criterion=gini, max_depth=10, max_features=log2, min_samples_leaf=4, min_samples_split=1, n_estimators=200; total time=   0.1s\n",
      "[CV] END criterion=gini, max_depth=10, max_features=log2, min_samples_leaf=4, min_samples_split=1, n_estimators=200; total time=   0.0s\n",
      "[CV] END criterion=gini, max_depth=10, max_features=log2, min_samples_leaf=4, min_samples_split=1, n_estimators=200; total time=   0.0s\n",
      "[CV] END criterion=gini, max_depth=10, max_features=log2, min_samples_leaf=4, min_samples_split=1, n_estimators=200; total time=   0.0s\n",
      "[CV] END criterion=gini, max_depth=10, max_features=log2, min_samples_leaf=4, min_samples_split=1, n_estimators=200; total time=   0.0s\n",
      "[CV] END criterion=log_loss, max_depth=890, max_features=log2, min_samples_leaf=1, min_samples_split=5, n_estimators=200; total time=   7.0s\n",
      "[CV] END criterion=log_loss, max_depth=890, max_features=log2, min_samples_leaf=1, min_samples_split=5, n_estimators=200; total time=   7.7s\n",
      "[CV] END criterion=log_loss, max_depth=890, max_features=log2, min_samples_leaf=1, min_samples_split=5, n_estimators=200; total time=   7.3s\n",
      "[CV] END criterion=log_loss, max_depth=890, max_features=log2, min_samples_leaf=1, min_samples_split=5, n_estimators=200; total time=   6.9s\n",
      "[CV] END criterion=log_loss, max_depth=890, max_features=log2, min_samples_leaf=1, min_samples_split=5, n_estimators=200; total time=   6.9s\n",
      "[CV] END criterion=log_loss, max_depth=10, max_features=sqrt, min_samples_leaf=2, min_samples_split=15, n_estimators=600; total time=  14.3s\n",
      "[CV] END criterion=log_loss, max_depth=10, max_features=sqrt, min_samples_leaf=2, min_samples_split=15, n_estimators=600; total time=  14.3s\n",
      "[CV] END criterion=log_loss, max_depth=10, max_features=sqrt, min_samples_leaf=2, min_samples_split=15, n_estimators=600; total time=  20.0s\n",
      "[CV] END criterion=log_loss, max_depth=10, max_features=sqrt, min_samples_leaf=2, min_samples_split=15, n_estimators=600; total time=  14.2s\n",
      "[CV] END criterion=log_loss, max_depth=10, max_features=sqrt, min_samples_leaf=2, min_samples_split=15, n_estimators=600; total time=  14.5s\n"
     ]
    },
    {
     "name": "stderr",
     "output_type": "stream",
     "text": [
      "C:\\Users\\shail\\AppData\\Local\\Programs\\Python\\Python310\\lib\\site-packages\\sklearn\\model_selection\\_validation.py:378: FitFailedWarning: \n",
      "5 fits failed out of a total of 50.\n",
      "The score on these train-test partitions for these parameters will be set to nan.\n",
      "If these failures are not expected, you can try to debug them by setting error_score='raise'.\n",
      "\n",
      "Below are more details about the failures:\n",
      "--------------------------------------------------------------------------------\n",
      "5 fits failed with the following error:\n",
      "Traceback (most recent call last):\n",
      "  File \"C:\\Users\\shail\\AppData\\Local\\Programs\\Python\\Python310\\lib\\site-packages\\sklearn\\model_selection\\_validation.py\", line 686, in _fit_and_score\n",
      "    estimator.fit(X_train, y_train, **fit_params)\n",
      "  File \"C:\\Users\\shail\\AppData\\Local\\Programs\\Python\\Python310\\lib\\site-packages\\sklearn\\ensemble\\_forest.py\", line 476, in fit\n",
      "    trees = Parallel(\n",
      "  File \"C:\\Users\\shail\\AppData\\Local\\Programs\\Python\\Python310\\lib\\site-packages\\joblib\\parallel.py\", line 1041, in __call__\n",
      "    if self.dispatch_one_batch(iterator):\n",
      "  File \"C:\\Users\\shail\\AppData\\Local\\Programs\\Python\\Python310\\lib\\site-packages\\joblib\\parallel.py\", line 859, in dispatch_one_batch\n",
      "    self._dispatch(tasks)\n",
      "  File \"C:\\Users\\shail\\AppData\\Local\\Programs\\Python\\Python310\\lib\\site-packages\\joblib\\parallel.py\", line 777, in _dispatch\n",
      "    job = self._backend.apply_async(batch, callback=cb)\n",
      "  File \"C:\\Users\\shail\\AppData\\Local\\Programs\\Python\\Python310\\lib\\site-packages\\joblib\\_parallel_backends.py\", line 208, in apply_async\n",
      "    result = ImmediateResult(func)\n",
      "  File \"C:\\Users\\shail\\AppData\\Local\\Programs\\Python\\Python310\\lib\\site-packages\\joblib\\_parallel_backends.py\", line 572, in __init__\n",
      "    self.results = batch()\n",
      "  File \"C:\\Users\\shail\\AppData\\Local\\Programs\\Python\\Python310\\lib\\site-packages\\joblib\\parallel.py\", line 262, in __call__\n",
      "    return [func(*args, **kwargs)\n",
      "  File \"C:\\Users\\shail\\AppData\\Local\\Programs\\Python\\Python310\\lib\\site-packages\\joblib\\parallel.py\", line 262, in <listcomp>\n",
      "    return [func(*args, **kwargs)\n",
      "  File \"C:\\Users\\shail\\AppData\\Local\\Programs\\Python\\Python310\\lib\\site-packages\\sklearn\\utils\\fixes.py\", line 117, in __call__\n",
      "    return self.function(*args, **kwargs)\n",
      "  File \"C:\\Users\\shail\\AppData\\Local\\Programs\\Python\\Python310\\lib\\site-packages\\sklearn\\ensemble\\_forest.py\", line 189, in _parallel_build_trees\n",
      "    tree.fit(X, y, sample_weight=curr_sample_weight, check_input=False)\n",
      "  File \"C:\\Users\\shail\\AppData\\Local\\Programs\\Python\\Python310\\lib\\site-packages\\sklearn\\tree\\_classes.py\", line 969, in fit\n",
      "    super().fit(\n",
      "  File \"C:\\Users\\shail\\AppData\\Local\\Programs\\Python\\Python310\\lib\\site-packages\\sklearn\\tree\\_classes.py\", line 265, in fit\n",
      "    check_scalar(\n",
      "  File \"C:\\Users\\shail\\AppData\\Local\\Programs\\Python\\Python310\\lib\\site-packages\\sklearn\\utils\\validation.py\", line 1480, in check_scalar\n",
      "    raise ValueError(\n",
      "ValueError: min_samples_split == 1, must be >= 2.\n",
      "\n",
      "  warnings.warn(some_fits_failed_message, FitFailedWarning)\n",
      "C:\\Users\\shail\\AppData\\Local\\Programs\\Python\\Python310\\lib\\site-packages\\sklearn\\model_selection\\_search.py:953: UserWarning: One or more of the test scores are non-finite: [0.83415204 0.83415205 0.83428366 0.83274797 0.83314291 0.83573161\n",
      " 0.83502958        nan 0.82581585 0.8357755 ]\n",
      "  warnings.warn(\n"
     ]
    },
    {
     "data": {
      "text/html": [
       "<style>#sk-container-id-7 {color: black;background-color: white;}#sk-container-id-7 pre{padding: 0;}#sk-container-id-7 div.sk-toggleable {background-color: white;}#sk-container-id-7 label.sk-toggleable__label {cursor: pointer;display: block;width: 100%;margin-bottom: 0;padding: 0.3em;box-sizing: border-box;text-align: center;}#sk-container-id-7 label.sk-toggleable__label-arrow:before {content: \"▸\";float: left;margin-right: 0.25em;color: #696969;}#sk-container-id-7 label.sk-toggleable__label-arrow:hover:before {color: black;}#sk-container-id-7 div.sk-estimator:hover label.sk-toggleable__label-arrow:before {color: black;}#sk-container-id-7 div.sk-toggleable__content {max-height: 0;max-width: 0;overflow: hidden;text-align: left;background-color: #f0f8ff;}#sk-container-id-7 div.sk-toggleable__content pre {margin: 0.2em;color: black;border-radius: 0.25em;background-color: #f0f8ff;}#sk-container-id-7 input.sk-toggleable__control:checked~div.sk-toggleable__content {max-height: 200px;max-width: 100%;overflow: auto;}#sk-container-id-7 input.sk-toggleable__control:checked~label.sk-toggleable__label-arrow:before {content: \"▾\";}#sk-container-id-7 div.sk-estimator input.sk-toggleable__control:checked~label.sk-toggleable__label {background-color: #d4ebff;}#sk-container-id-7 div.sk-label input.sk-toggleable__control:checked~label.sk-toggleable__label {background-color: #d4ebff;}#sk-container-id-7 input.sk-hidden--visually {border: 0;clip: rect(1px 1px 1px 1px);clip: rect(1px, 1px, 1px, 1px);height: 1px;margin: -1px;overflow: hidden;padding: 0;position: absolute;width: 1px;}#sk-container-id-7 div.sk-estimator {font-family: monospace;background-color: #f0f8ff;border: 1px dotted black;border-radius: 0.25em;box-sizing: border-box;margin-bottom: 0.5em;}#sk-container-id-7 div.sk-estimator:hover {background-color: #d4ebff;}#sk-container-id-7 div.sk-parallel-item::after {content: \"\";width: 100%;border-bottom: 1px solid gray;flex-grow: 1;}#sk-container-id-7 div.sk-label:hover label.sk-toggleable__label {background-color: #d4ebff;}#sk-container-id-7 div.sk-serial::before {content: \"\";position: absolute;border-left: 1px solid gray;box-sizing: border-box;top: 0;bottom: 0;left: 50%;z-index: 0;}#sk-container-id-7 div.sk-serial {display: flex;flex-direction: column;align-items: center;background-color: white;padding-right: 0.2em;padding-left: 0.2em;position: relative;}#sk-container-id-7 div.sk-item {position: relative;z-index: 1;}#sk-container-id-7 div.sk-parallel {display: flex;align-items: stretch;justify-content: center;background-color: white;position: relative;}#sk-container-id-7 div.sk-item::before, #sk-container-id-7 div.sk-parallel-item::before {content: \"\";position: absolute;border-left: 1px solid gray;box-sizing: border-box;top: 0;bottom: 0;left: 50%;z-index: -1;}#sk-container-id-7 div.sk-parallel-item {display: flex;flex-direction: column;z-index: 1;position: relative;background-color: white;}#sk-container-id-7 div.sk-parallel-item:first-child::after {align-self: flex-end;width: 50%;}#sk-container-id-7 div.sk-parallel-item:last-child::after {align-self: flex-start;width: 50%;}#sk-container-id-7 div.sk-parallel-item:only-child::after {width: 0;}#sk-container-id-7 div.sk-dashed-wrapped {border: 1px dashed gray;margin: 0 0.4em 0.5em 0.4em;box-sizing: border-box;padding-bottom: 0.4em;background-color: white;}#sk-container-id-7 div.sk-label label {font-family: monospace;font-weight: bold;display: inline-block;line-height: 1.2em;}#sk-container-id-7 div.sk-label-container {text-align: center;}#sk-container-id-7 div.sk-container {/* jupyter's `normalize.less` sets `[hidden] { display: none; }` but bootstrap.min.css set `[hidden] { display: none !important; }` so we also need the `!important` here to be able to override the default hidden behavior on the sphinx rendered scikit-learn.org. See: https://github.com/scikit-learn/scikit-learn/issues/21755 */display: inline-block !important;position: relative;}#sk-container-id-7 div.sk-text-repr-fallback {display: none;}</style><div id=\"sk-container-id-7\" class=\"sk-top-container\"><div class=\"sk-text-repr-fallback\"><pre>RandomizedSearchCV(cv=5, estimator=RandomForestClassifier(), n_jobs=1,\n",
       "                   param_distributions={&#x27;criterion&#x27;: [&#x27;gini&#x27;, &#x27;entropy&#x27;,\n",
       "                                                      &#x27;log_loss&#x27;],\n",
       "                                        &#x27;max_depth&#x27;: [10, 120, 230, 340, 450,\n",
       "                                                      560, 670, 780, 890,\n",
       "                                                      1000],\n",
       "                                        &#x27;max_features&#x27;: [&#x27;sqrt&#x27;, &#x27;log2&#x27;],\n",
       "                                        &#x27;min_samples_leaf&#x27;: [1, 2, 4, 6, 8],\n",
       "                                        &#x27;min_samples_split&#x27;: [1, 5, 10, 15, 20],\n",
       "                                        &#x27;n_estimators&#x27;: [200, 400, 600, 800,\n",
       "                                                         1000, 1200, 1400, 1600,\n",
       "                                                         1800, 2000]},\n",
       "                   random_state=100, verbose=2)</pre><b>In a Jupyter environment, please rerun this cell to show the HTML representation or trust the notebook. <br />On GitHub, the HTML representation is unable to render, please try loading this page with nbviewer.org.</b></div><div class=\"sk-container\" hidden><div class=\"sk-item sk-dashed-wrapped\"><div class=\"sk-label-container\"><div class=\"sk-label sk-toggleable\"><input class=\"sk-toggleable__control sk-hidden--visually\" id=\"sk-estimator-id-7\" type=\"checkbox\" ><label for=\"sk-estimator-id-7\" class=\"sk-toggleable__label sk-toggleable__label-arrow\">RandomizedSearchCV</label><div class=\"sk-toggleable__content\"><pre>RandomizedSearchCV(cv=5, estimator=RandomForestClassifier(), n_jobs=1,\n",
       "                   param_distributions={&#x27;criterion&#x27;: [&#x27;gini&#x27;, &#x27;entropy&#x27;,\n",
       "                                                      &#x27;log_loss&#x27;],\n",
       "                                        &#x27;max_depth&#x27;: [10, 120, 230, 340, 450,\n",
       "                                                      560, 670, 780, 890,\n",
       "                                                      1000],\n",
       "                                        &#x27;max_features&#x27;: [&#x27;sqrt&#x27;, &#x27;log2&#x27;],\n",
       "                                        &#x27;min_samples_leaf&#x27;: [1, 2, 4, 6, 8],\n",
       "                                        &#x27;min_samples_split&#x27;: [1, 5, 10, 15, 20],\n",
       "                                        &#x27;n_estimators&#x27;: [200, 400, 600, 800,\n",
       "                                                         1000, 1200, 1400, 1600,\n",
       "                                                         1800, 2000]},\n",
       "                   random_state=100, verbose=2)</pre></div></div></div><div class=\"sk-parallel\"><div class=\"sk-parallel-item\"><div class=\"sk-item\"><div class=\"sk-label-container\"><div class=\"sk-label sk-toggleable\"><input class=\"sk-toggleable__control sk-hidden--visually\" id=\"sk-estimator-id-8\" type=\"checkbox\" ><label for=\"sk-estimator-id-8\" class=\"sk-toggleable__label sk-toggleable__label-arrow\">estimator: RandomForestClassifier</label><div class=\"sk-toggleable__content\"><pre>RandomForestClassifier()</pre></div></div></div><div class=\"sk-serial\"><div class=\"sk-item\"><div class=\"sk-estimator sk-toggleable\"><input class=\"sk-toggleable__control sk-hidden--visually\" id=\"sk-estimator-id-9\" type=\"checkbox\" ><label for=\"sk-estimator-id-9\" class=\"sk-toggleable__label sk-toggleable__label-arrow\">RandomForestClassifier</label><div class=\"sk-toggleable__content\"><pre>RandomForestClassifier()</pre></div></div></div></div></div></div></div></div></div></div>"
      ],
      "text/plain": [
       "RandomizedSearchCV(cv=5, estimator=RandomForestClassifier(), n_jobs=1,\n",
       "                   param_distributions={'criterion': ['gini', 'entropy',\n",
       "                                                      'log_loss'],\n",
       "                                        'max_depth': [10, 120, 230, 340, 450,\n",
       "                                                      560, 670, 780, 890,\n",
       "                                                      1000],\n",
       "                                        'max_features': ['sqrt', 'log2'],\n",
       "                                        'min_samples_leaf': [1, 2, 4, 6, 8],\n",
       "                                        'min_samples_split': [1, 5, 10, 15, 20],\n",
       "                                        'n_estimators': [200, 400, 600, 800,\n",
       "                                                         1000, 1200, 1400, 1600,\n",
       "                                                         1800, 2000]},\n",
       "                   random_state=100, verbose=2)"
      ]
     },
     "execution_count": 72,
     "metadata": {},
     "output_type": "execute_result"
    }
   ],
   "source": [
    "rf_randomcv.fit(x_train , y_train)"
   ]
  },
  {
   "cell_type": "code",
   "execution_count": 73,
   "id": "d86d39d0",
   "metadata": {},
   "outputs": [
    {
     "data": {
      "text/plain": [
       "{'n_estimators': 600,\n",
       " 'min_samples_split': 15,\n",
       " 'min_samples_leaf': 2,\n",
       " 'max_features': 'sqrt',\n",
       " 'max_depth': 10,\n",
       " 'criterion': 'log_loss'}"
      ]
     },
     "execution_count": 73,
     "metadata": {},
     "output_type": "execute_result"
    }
   ],
   "source": [
    "rf_randomcv.best_params_"
   ]
  },
  {
   "cell_type": "code",
   "execution_count": 74,
   "id": "ad0e5cad",
   "metadata": {},
   "outputs": [],
   "source": [
    "best_grid = rf_randomcv.best_estimator_"
   ]
  },
  {
   "cell_type": "code",
   "execution_count": 75,
   "id": "e5483915",
   "metadata": {},
   "outputs": [],
   "source": [
    "y_pred = best_grid.predict(x_test)"
   ]
  },
  {
   "cell_type": "code",
   "execution_count": 76,
   "id": "1bfa3f1c",
   "metadata": {},
   "outputs": [
    {
     "name": "stdout",
     "output_type": "stream",
     "text": [
      "[[6916  491]\n",
      " [1137 1225]]\n",
      "0.8333503941037977\n"
     ]
    }
   ],
   "source": [
    "print(confusion_matrix(y_test , y_pred))\n",
    "print(accuracy_score(y_test , y_pred))\n",
    "# print(classification_report(y_test , y_pred))"
   ]
  },
  {
   "cell_type": "markdown",
   "id": "a43d1589",
   "metadata": {},
   "source": [
    "### Gridsearch CV"
   ]
  },
  {
   "cell_type": "code",
   "execution_count": 77,
   "id": "430b4640",
   "metadata": {},
   "outputs": [
    {
     "name": "stdout",
     "output_type": "stream",
     "text": [
      "{'criterion': ['log_loss'], 'max_depth': [10], 'max_features': ['sqrt'], 'min_samples_leaf': [2, 4, 6], 'min_samples_split': [13, 14, 15, 16, 17], 'n_estimators': [400, 500, 600, 700, 800]}\n"
     ]
    }
   ],
   "source": [
    "from sklearn.model_selection import GridSearchCV\n",
    "\n",
    "param_grid = {\n",
    "    'criterion': [rf_randomcv.best_params_['criterion']],\n",
    "    'max_depth': [rf_randomcv.best_params_['max_depth']],\n",
    "    'max_features': [rf_randomcv.best_params_['max_features']],\n",
    "    'min_samples_leaf': [rf_randomcv.best_params_['min_samples_leaf'], \n",
    "                         rf_randomcv.best_params_['min_samples_leaf']+2, \n",
    "                         rf_randomcv.best_params_['min_samples_leaf'] + 4],\n",
    "    'min_samples_split': [rf_randomcv.best_params_['min_samples_split'] - 2,\n",
    "                          rf_randomcv.best_params_['min_samples_split'] - 1,\n",
    "                          rf_randomcv.best_params_['min_samples_split'], \n",
    "                          rf_randomcv.best_params_['min_samples_split'] +1,\n",
    "                          rf_randomcv.best_params_['min_samples_split'] + 2],\n",
    "    'n_estimators': [rf_randomcv.best_params_['n_estimators'] - 200, rf_randomcv.best_params_['n_estimators'] - 100, \n",
    "                     rf_randomcv.best_params_['n_estimators'], \n",
    "                     rf_randomcv.best_params_['n_estimators'] + 100, rf_randomcv.best_params_['n_estimators'] + 200]\n",
    "}\n",
    "\n",
    "print(param_grid)"
   ]
  },
  {
   "cell_type": "code",
   "execution_count": 78,
   "id": "e5589bf5",
   "metadata": {},
   "outputs": [],
   "source": [
    "rf = RandomForestClassifier()"
   ]
  },
  {
   "cell_type": "code",
   "execution_count": 79,
   "id": "036657e4",
   "metadata": {},
   "outputs": [],
   "source": [
    "grid_search = GridSearchCV(estimator=rf, param_grid=param_grid, cv=3 , n_jobs=1 , verbose=2)"
   ]
  },
  {
   "cell_type": "code",
   "execution_count": 80,
   "id": "96dbc77e",
   "metadata": {},
   "outputs": [
    {
     "name": "stdout",
     "output_type": "stream",
     "text": [
      "Fitting 3 folds for each of 75 candidates, totalling 225 fits\n",
      "[CV] END criterion=log_loss, max_depth=10, max_features=sqrt, min_samples_leaf=2, min_samples_split=13, n_estimators=400; total time=   8.5s\n",
      "[CV] END criterion=log_loss, max_depth=10, max_features=sqrt, min_samples_leaf=2, min_samples_split=13, n_estimators=400; total time=   9.8s\n",
      "[CV] END criterion=log_loss, max_depth=10, max_features=sqrt, min_samples_leaf=2, min_samples_split=13, n_estimators=400; total time=  11.0s\n",
      "[CV] END criterion=log_loss, max_depth=10, max_features=sqrt, min_samples_leaf=2, min_samples_split=13, n_estimators=500; total time=  10.4s\n",
      "[CV] END criterion=log_loss, max_depth=10, max_features=sqrt, min_samples_leaf=2, min_samples_split=13, n_estimators=500; total time=  12.1s\n",
      "[CV] END criterion=log_loss, max_depth=10, max_features=sqrt, min_samples_leaf=2, min_samples_split=13, n_estimators=500; total time=  11.6s\n",
      "[CV] END criterion=log_loss, max_depth=10, max_features=sqrt, min_samples_leaf=2, min_samples_split=13, n_estimators=600; total time=  18.9s\n",
      "[CV] END criterion=log_loss, max_depth=10, max_features=sqrt, min_samples_leaf=2, min_samples_split=13, n_estimators=600; total time=  15.1s\n",
      "[CV] END criterion=log_loss, max_depth=10, max_features=sqrt, min_samples_leaf=2, min_samples_split=13, n_estimators=600; total time=  18.0s\n",
      "[CV] END criterion=log_loss, max_depth=10, max_features=sqrt, min_samples_leaf=2, min_samples_split=13, n_estimators=700; total time=  15.4s\n",
      "[CV] END criterion=log_loss, max_depth=10, max_features=sqrt, min_samples_leaf=2, min_samples_split=13, n_estimators=700; total time=  14.5s\n",
      "[CV] END criterion=log_loss, max_depth=10, max_features=sqrt, min_samples_leaf=2, min_samples_split=13, n_estimators=700; total time=  14.3s\n",
      "[CV] END criterion=log_loss, max_depth=10, max_features=sqrt, min_samples_leaf=2, min_samples_split=13, n_estimators=800; total time=  16.4s\n",
      "[CV] END criterion=log_loss, max_depth=10, max_features=sqrt, min_samples_leaf=2, min_samples_split=13, n_estimators=800; total time=  16.5s\n",
      "[CV] END criterion=log_loss, max_depth=10, max_features=sqrt, min_samples_leaf=2, min_samples_split=13, n_estimators=800; total time=  16.9s\n",
      "[CV] END criterion=log_loss, max_depth=10, max_features=sqrt, min_samples_leaf=2, min_samples_split=14, n_estimators=400; total time=   8.2s\n",
      "[CV] END criterion=log_loss, max_depth=10, max_features=sqrt, min_samples_leaf=2, min_samples_split=14, n_estimators=400; total time=   8.1s\n",
      "[CV] END criterion=log_loss, max_depth=10, max_features=sqrt, min_samples_leaf=2, min_samples_split=14, n_estimators=400; total time=   8.2s\n",
      "[CV] END criterion=log_loss, max_depth=10, max_features=sqrt, min_samples_leaf=2, min_samples_split=14, n_estimators=500; total time=  11.5s\n",
      "[CV] END criterion=log_loss, max_depth=10, max_features=sqrt, min_samples_leaf=2, min_samples_split=14, n_estimators=500; total time=  11.2s\n",
      "[CV] END criterion=log_loss, max_depth=10, max_features=sqrt, min_samples_leaf=2, min_samples_split=14, n_estimators=500; total time=  14.8s\n",
      "[CV] END criterion=log_loss, max_depth=10, max_features=sqrt, min_samples_leaf=2, min_samples_split=14, n_estimators=600; total time=  18.3s\n",
      "[CV] END criterion=log_loss, max_depth=10, max_features=sqrt, min_samples_leaf=2, min_samples_split=14, n_estimators=600; total time=  14.5s\n",
      "[CV] END criterion=log_loss, max_depth=10, max_features=sqrt, min_samples_leaf=2, min_samples_split=14, n_estimators=600; total time=  16.5s\n",
      "[CV] END criterion=log_loss, max_depth=10, max_features=sqrt, min_samples_leaf=2, min_samples_split=14, n_estimators=700; total time=  14.6s\n",
      "[CV] END criterion=log_loss, max_depth=10, max_features=sqrt, min_samples_leaf=2, min_samples_split=14, n_estimators=700; total time=  14.2s\n",
      "[CV] END criterion=log_loss, max_depth=10, max_features=sqrt, min_samples_leaf=2, min_samples_split=14, n_estimators=700; total time=  16.1s\n",
      "[CV] END criterion=log_loss, max_depth=10, max_features=sqrt, min_samples_leaf=2, min_samples_split=14, n_estimators=800; total time=  31.1s\n",
      "[CV] END criterion=log_loss, max_depth=10, max_features=sqrt, min_samples_leaf=2, min_samples_split=14, n_estimators=800; total time=  17.7s\n",
      "[CV] END criterion=log_loss, max_depth=10, max_features=sqrt, min_samples_leaf=2, min_samples_split=14, n_estimators=800; total time=  26.8s\n",
      "[CV] END criterion=log_loss, max_depth=10, max_features=sqrt, min_samples_leaf=2, min_samples_split=15, n_estimators=400; total time=  12.0s\n",
      "[CV] END criterion=log_loss, max_depth=10, max_features=sqrt, min_samples_leaf=2, min_samples_split=15, n_estimators=400; total time=  11.3s\n",
      "[CV] END criterion=log_loss, max_depth=10, max_features=sqrt, min_samples_leaf=2, min_samples_split=15, n_estimators=400; total time=  10.4s\n",
      "[CV] END criterion=log_loss, max_depth=10, max_features=sqrt, min_samples_leaf=2, min_samples_split=15, n_estimators=500; total time=  10.3s\n",
      "[CV] END criterion=log_loss, max_depth=10, max_features=sqrt, min_samples_leaf=2, min_samples_split=15, n_estimators=500; total time=  10.2s\n",
      "[CV] END criterion=log_loss, max_depth=10, max_features=sqrt, min_samples_leaf=2, min_samples_split=15, n_estimators=500; total time=  10.1s\n",
      "[CV] END criterion=log_loss, max_depth=10, max_features=sqrt, min_samples_leaf=2, min_samples_split=15, n_estimators=600; total time=  12.3s\n",
      "[CV] END criterion=log_loss, max_depth=10, max_features=sqrt, min_samples_leaf=2, min_samples_split=15, n_estimators=600; total time=  12.2s\n",
      "[CV] END criterion=log_loss, max_depth=10, max_features=sqrt, min_samples_leaf=2, min_samples_split=15, n_estimators=600; total time=  12.2s\n",
      "[CV] END criterion=log_loss, max_depth=10, max_features=sqrt, min_samples_leaf=2, min_samples_split=15, n_estimators=700; total time=  14.2s\n",
      "[CV] END criterion=log_loss, max_depth=10, max_features=sqrt, min_samples_leaf=2, min_samples_split=15, n_estimators=700; total time=  20.1s\n",
      "[CV] END criterion=log_loss, max_depth=10, max_features=sqrt, min_samples_leaf=2, min_samples_split=15, n_estimators=700; total time=  18.4s\n",
      "[CV] END criterion=log_loss, max_depth=10, max_features=sqrt, min_samples_leaf=2, min_samples_split=15, n_estimators=800; total time=  26.5s\n",
      "[CV] END criterion=log_loss, max_depth=10, max_features=sqrt, min_samples_leaf=2, min_samples_split=15, n_estimators=800; total time=  23.2s\n",
      "[CV] END criterion=log_loss, max_depth=10, max_features=sqrt, min_samples_leaf=2, min_samples_split=15, n_estimators=800; total time=  26.1s\n",
      "[CV] END criterion=log_loss, max_depth=10, max_features=sqrt, min_samples_leaf=2, min_samples_split=16, n_estimators=400; total time=  10.8s\n",
      "[CV] END criterion=log_loss, max_depth=10, max_features=sqrt, min_samples_leaf=2, min_samples_split=16, n_estimators=400; total time=  11.8s\n",
      "[CV] END criterion=log_loss, max_depth=10, max_features=sqrt, min_samples_leaf=2, min_samples_split=16, n_estimators=400; total time=  13.1s\n",
      "[CV] END criterion=log_loss, max_depth=10, max_features=sqrt, min_samples_leaf=2, min_samples_split=16, n_estimators=500; total time=  14.3s\n",
      "[CV] END criterion=log_loss, max_depth=10, max_features=sqrt, min_samples_leaf=2, min_samples_split=16, n_estimators=500; total time=  13.9s\n",
      "[CV] END criterion=log_loss, max_depth=10, max_features=sqrt, min_samples_leaf=2, min_samples_split=16, n_estimators=500; total time=  10.6s\n",
      "[CV] END criterion=log_loss, max_depth=10, max_features=sqrt, min_samples_leaf=2, min_samples_split=16, n_estimators=600; total time=  17.2s\n",
      "[CV] END criterion=log_loss, max_depth=10, max_features=sqrt, min_samples_leaf=2, min_samples_split=16, n_estimators=600; total time=  12.4s\n",
      "[CV] END criterion=log_loss, max_depth=10, max_features=sqrt, min_samples_leaf=2, min_samples_split=16, n_estimators=600; total time=  12.3s\n",
      "[CV] END criterion=log_loss, max_depth=10, max_features=sqrt, min_samples_leaf=2, min_samples_split=16, n_estimators=700; total time=  22.3s\n",
      "[CV] END criterion=log_loss, max_depth=10, max_features=sqrt, min_samples_leaf=2, min_samples_split=16, n_estimators=700; total time=  16.7s\n",
      "[CV] END criterion=log_loss, max_depth=10, max_features=sqrt, min_samples_leaf=2, min_samples_split=16, n_estimators=700; total time=  14.3s\n",
      "[CV] END criterion=log_loss, max_depth=10, max_features=sqrt, min_samples_leaf=2, min_samples_split=16, n_estimators=800; total time=  16.4s\n"
     ]
    },
    {
     "name": "stdout",
     "output_type": "stream",
     "text": [
      "[CV] END criterion=log_loss, max_depth=10, max_features=sqrt, min_samples_leaf=2, min_samples_split=16, n_estimators=800; total time=  19.0s\n",
      "[CV] END criterion=log_loss, max_depth=10, max_features=sqrt, min_samples_leaf=2, min_samples_split=16, n_estimators=800; total time=  29.5s\n",
      "[CV] END criterion=log_loss, max_depth=10, max_features=sqrt, min_samples_leaf=2, min_samples_split=17, n_estimators=400; total time=  10.5s\n",
      "[CV] END criterion=log_loss, max_depth=10, max_features=sqrt, min_samples_leaf=2, min_samples_split=17, n_estimators=400; total time=   9.5s\n",
      "[CV] END criterion=log_loss, max_depth=10, max_features=sqrt, min_samples_leaf=2, min_samples_split=17, n_estimators=400; total time=   8.8s\n",
      "[CV] END criterion=log_loss, max_depth=10, max_features=sqrt, min_samples_leaf=2, min_samples_split=17, n_estimators=500; total time=  12.0s\n",
      "[CV] END criterion=log_loss, max_depth=10, max_features=sqrt, min_samples_leaf=2, min_samples_split=17, n_estimators=500; total time=  13.8s\n",
      "[CV] END criterion=log_loss, max_depth=10, max_features=sqrt, min_samples_leaf=2, min_samples_split=17, n_estimators=500; total time=  10.8s\n",
      "[CV] END criterion=log_loss, max_depth=10, max_features=sqrt, min_samples_leaf=2, min_samples_split=17, n_estimators=600; total time=  12.9s\n",
      "[CV] END criterion=log_loss, max_depth=10, max_features=sqrt, min_samples_leaf=2, min_samples_split=17, n_estimators=600; total time=  13.0s\n",
      "[CV] END criterion=log_loss, max_depth=10, max_features=sqrt, min_samples_leaf=2, min_samples_split=17, n_estimators=600; total time=  13.2s\n",
      "[CV] END criterion=log_loss, max_depth=10, max_features=sqrt, min_samples_leaf=2, min_samples_split=17, n_estimators=700; total time=  15.1s\n",
      "[CV] END criterion=log_loss, max_depth=10, max_features=sqrt, min_samples_leaf=2, min_samples_split=17, n_estimators=700; total time=  16.6s\n",
      "[CV] END criterion=log_loss, max_depth=10, max_features=sqrt, min_samples_leaf=2, min_samples_split=17, n_estimators=700; total time=  24.3s\n",
      "[CV] END criterion=log_loss, max_depth=10, max_features=sqrt, min_samples_leaf=2, min_samples_split=17, n_estimators=800; total time=  20.3s\n",
      "[CV] END criterion=log_loss, max_depth=10, max_features=sqrt, min_samples_leaf=2, min_samples_split=17, n_estimators=800; total time=  17.7s\n",
      "[CV] END criterion=log_loss, max_depth=10, max_features=sqrt, min_samples_leaf=2, min_samples_split=17, n_estimators=800; total time=  16.9s\n",
      "[CV] END criterion=log_loss, max_depth=10, max_features=sqrt, min_samples_leaf=4, min_samples_split=13, n_estimators=400; total time=   8.4s\n",
      "[CV] END criterion=log_loss, max_depth=10, max_features=sqrt, min_samples_leaf=4, min_samples_split=13, n_estimators=400; total time=   9.3s\n",
      "[CV] END criterion=log_loss, max_depth=10, max_features=sqrt, min_samples_leaf=4, min_samples_split=13, n_estimators=400; total time=   8.1s\n",
      "[CV] END criterion=log_loss, max_depth=10, max_features=sqrt, min_samples_leaf=4, min_samples_split=13, n_estimators=500; total time=  10.7s\n",
      "[CV] END criterion=log_loss, max_depth=10, max_features=sqrt, min_samples_leaf=4, min_samples_split=13, n_estimators=500; total time=  10.7s\n",
      "[CV] END criterion=log_loss, max_depth=10, max_features=sqrt, min_samples_leaf=4, min_samples_split=13, n_estimators=500; total time=  10.3s\n",
      "[CV] END criterion=log_loss, max_depth=10, max_features=sqrt, min_samples_leaf=4, min_samples_split=13, n_estimators=600; total time=  12.4s\n",
      "[CV] END criterion=log_loss, max_depth=10, max_features=sqrt, min_samples_leaf=4, min_samples_split=13, n_estimators=600; total time=  12.5s\n",
      "[CV] END criterion=log_loss, max_depth=10, max_features=sqrt, min_samples_leaf=4, min_samples_split=13, n_estimators=600; total time=  12.6s\n",
      "[CV] END criterion=log_loss, max_depth=10, max_features=sqrt, min_samples_leaf=4, min_samples_split=13, n_estimators=700; total time=  18.7s\n",
      "[CV] END criterion=log_loss, max_depth=10, max_features=sqrt, min_samples_leaf=4, min_samples_split=13, n_estimators=700; total time=  15.0s\n",
      "[CV] END criterion=log_loss, max_depth=10, max_features=sqrt, min_samples_leaf=4, min_samples_split=13, n_estimators=700; total time=  14.8s\n",
      "[CV] END criterion=log_loss, max_depth=10, max_features=sqrt, min_samples_leaf=4, min_samples_split=13, n_estimators=800; total time=  17.1s\n",
      "[CV] END criterion=log_loss, max_depth=10, max_features=sqrt, min_samples_leaf=4, min_samples_split=13, n_estimators=800; total time=  16.8s\n",
      "[CV] END criterion=log_loss, max_depth=10, max_features=sqrt, min_samples_leaf=4, min_samples_split=13, n_estimators=800; total time=  16.9s\n",
      "[CV] END criterion=log_loss, max_depth=10, max_features=sqrt, min_samples_leaf=4, min_samples_split=14, n_estimators=400; total time=   8.3s\n",
      "[CV] END criterion=log_loss, max_depth=10, max_features=sqrt, min_samples_leaf=4, min_samples_split=14, n_estimators=400; total time=   8.0s\n",
      "[CV] END criterion=log_loss, max_depth=10, max_features=sqrt, min_samples_leaf=4, min_samples_split=14, n_estimators=400; total time=  10.5s\n",
      "[CV] END criterion=log_loss, max_depth=10, max_features=sqrt, min_samples_leaf=4, min_samples_split=14, n_estimators=500; total time=  10.4s\n",
      "[CV] END criterion=log_loss, max_depth=10, max_features=sqrt, min_samples_leaf=4, min_samples_split=14, n_estimators=500; total time=  10.3s\n",
      "[CV] END criterion=log_loss, max_depth=10, max_features=sqrt, min_samples_leaf=4, min_samples_split=14, n_estimators=500; total time=  13.3s\n",
      "[CV] END criterion=log_loss, max_depth=10, max_features=sqrt, min_samples_leaf=4, min_samples_split=14, n_estimators=600; total time=  14.0s\n",
      "[CV] END criterion=log_loss, max_depth=10, max_features=sqrt, min_samples_leaf=4, min_samples_split=14, n_estimators=600; total time=  13.4s\n",
      "[CV] END criterion=log_loss, max_depth=10, max_features=sqrt, min_samples_leaf=4, min_samples_split=14, n_estimators=600; total time=  18.4s\n",
      "[CV] END criterion=log_loss, max_depth=10, max_features=sqrt, min_samples_leaf=4, min_samples_split=14, n_estimators=700; total time=  17.1s\n",
      "[CV] END criterion=log_loss, max_depth=10, max_features=sqrt, min_samples_leaf=4, min_samples_split=14, n_estimators=700; total time=  15.6s\n",
      "[CV] END criterion=log_loss, max_depth=10, max_features=sqrt, min_samples_leaf=4, min_samples_split=14, n_estimators=700; total time=  28.1s\n",
      "[CV] END criterion=log_loss, max_depth=10, max_features=sqrt, min_samples_leaf=4, min_samples_split=14, n_estimators=800; total time=  21.1s\n",
      "[CV] END criterion=log_loss, max_depth=10, max_features=sqrt, min_samples_leaf=4, min_samples_split=14, n_estimators=800; total time=  26.7s\n",
      "[CV] END criterion=log_loss, max_depth=10, max_features=sqrt, min_samples_leaf=4, min_samples_split=14, n_estimators=800; total time=  18.1s\n",
      "[CV] END criterion=log_loss, max_depth=10, max_features=sqrt, min_samples_leaf=4, min_samples_split=15, n_estimators=400; total time=   9.4s\n",
      "[CV] END criterion=log_loss, max_depth=10, max_features=sqrt, min_samples_leaf=4, min_samples_split=15, n_estimators=400; total time=   7.9s\n",
      "[CV] END criterion=log_loss, max_depth=10, max_features=sqrt, min_samples_leaf=4, min_samples_split=15, n_estimators=400; total time=   9.9s\n",
      "[CV] END criterion=log_loss, max_depth=10, max_features=sqrt, min_samples_leaf=4, min_samples_split=15, n_estimators=500; total time=  15.1s\n",
      "[CV] END criterion=log_loss, max_depth=10, max_features=sqrt, min_samples_leaf=4, min_samples_split=15, n_estimators=500; total time=  13.1s\n",
      "[CV] END criterion=log_loss, max_depth=10, max_features=sqrt, min_samples_leaf=4, min_samples_split=15, n_estimators=500; total time=  19.5s\n",
      "[CV] END criterion=log_loss, max_depth=10, max_features=sqrt, min_samples_leaf=4, min_samples_split=15, n_estimators=600; total time=  35.4s\n",
      "[CV] END criterion=log_loss, max_depth=10, max_features=sqrt, min_samples_leaf=4, min_samples_split=15, n_estimators=600; total time=  26.9s\n",
      "[CV] END criterion=log_loss, max_depth=10, max_features=sqrt, min_samples_leaf=4, min_samples_split=15, n_estimators=600; total time=  27.9s\n",
      "[CV] END criterion=log_loss, max_depth=10, max_features=sqrt, min_samples_leaf=4, min_samples_split=15, n_estimators=700; total time=  20.2s\n",
      "[CV] END criterion=log_loss, max_depth=10, max_features=sqrt, min_samples_leaf=4, min_samples_split=15, n_estimators=700; total time=  17.3s\n",
      "[CV] END criterion=log_loss, max_depth=10, max_features=sqrt, min_samples_leaf=4, min_samples_split=15, n_estimators=700; total time=  17.5s\n"
     ]
    },
    {
     "name": "stdout",
     "output_type": "stream",
     "text": [
      "[CV] END criterion=log_loss, max_depth=10, max_features=sqrt, min_samples_leaf=4, min_samples_split=15, n_estimators=800; total time=  25.8s\n",
      "[CV] END criterion=log_loss, max_depth=10, max_features=sqrt, min_samples_leaf=4, min_samples_split=15, n_estimators=800; total time=  20.9s\n",
      "[CV] END criterion=log_loss, max_depth=10, max_features=sqrt, min_samples_leaf=4, min_samples_split=15, n_estimators=800; total time=  20.2s\n",
      "[CV] END criterion=log_loss, max_depth=10, max_features=sqrt, min_samples_leaf=4, min_samples_split=16, n_estimators=400; total time=  10.3s\n",
      "[CV] END criterion=log_loss, max_depth=10, max_features=sqrt, min_samples_leaf=4, min_samples_split=16, n_estimators=400; total time=   9.8s\n",
      "[CV] END criterion=log_loss, max_depth=10, max_features=sqrt, min_samples_leaf=4, min_samples_split=16, n_estimators=400; total time=  10.6s\n",
      "[CV] END criterion=log_loss, max_depth=10, max_features=sqrt, min_samples_leaf=4, min_samples_split=16, n_estimators=500; total time=  14.9s\n",
      "[CV] END criterion=log_loss, max_depth=10, max_features=sqrt, min_samples_leaf=4, min_samples_split=16, n_estimators=500; total time=  16.0s\n",
      "[CV] END criterion=log_loss, max_depth=10, max_features=sqrt, min_samples_leaf=4, min_samples_split=16, n_estimators=500; total time=  19.7s\n",
      "[CV] END criterion=log_loss, max_depth=10, max_features=sqrt, min_samples_leaf=4, min_samples_split=16, n_estimators=600; total time=  16.3s\n",
      "[CV] END criterion=log_loss, max_depth=10, max_features=sqrt, min_samples_leaf=4, min_samples_split=16, n_estimators=600; total time=  12.1s\n",
      "[CV] END criterion=log_loss, max_depth=10, max_features=sqrt, min_samples_leaf=4, min_samples_split=16, n_estimators=600; total time=  12.1s\n",
      "[CV] END criterion=log_loss, max_depth=10, max_features=sqrt, min_samples_leaf=4, min_samples_split=16, n_estimators=700; total time=  14.2s\n",
      "[CV] END criterion=log_loss, max_depth=10, max_features=sqrt, min_samples_leaf=4, min_samples_split=16, n_estimators=700; total time=  14.1s\n",
      "[CV] END criterion=log_loss, max_depth=10, max_features=sqrt, min_samples_leaf=4, min_samples_split=16, n_estimators=700; total time=  14.3s\n",
      "[CV] END criterion=log_loss, max_depth=10, max_features=sqrt, min_samples_leaf=4, min_samples_split=16, n_estimators=800; total time=  16.2s\n",
      "[CV] END criterion=log_loss, max_depth=10, max_features=sqrt, min_samples_leaf=4, min_samples_split=16, n_estimators=800; total time=  21.2s\n",
      "[CV] END criterion=log_loss, max_depth=10, max_features=sqrt, min_samples_leaf=4, min_samples_split=16, n_estimators=800; total time=  17.8s\n",
      "[CV] END criterion=log_loss, max_depth=10, max_features=sqrt, min_samples_leaf=4, min_samples_split=17, n_estimators=400; total time=   8.2s\n",
      "[CV] END criterion=log_loss, max_depth=10, max_features=sqrt, min_samples_leaf=4, min_samples_split=17, n_estimators=400; total time=   8.0s\n",
      "[CV] END criterion=log_loss, max_depth=10, max_features=sqrt, min_samples_leaf=4, min_samples_split=17, n_estimators=400; total time=   8.0s\n",
      "[CV] END criterion=log_loss, max_depth=10, max_features=sqrt, min_samples_leaf=4, min_samples_split=17, n_estimators=500; total time=  10.8s\n",
      "[CV] END criterion=log_loss, max_depth=10, max_features=sqrt, min_samples_leaf=4, min_samples_split=17, n_estimators=500; total time=  17.8s\n",
      "[CV] END criterion=log_loss, max_depth=10, max_features=sqrt, min_samples_leaf=4, min_samples_split=17, n_estimators=500; total time=  17.4s\n",
      "[CV] END criterion=log_loss, max_depth=10, max_features=sqrt, min_samples_leaf=4, min_samples_split=17, n_estimators=600; total time=  12.3s\n",
      "[CV] END criterion=log_loss, max_depth=10, max_features=sqrt, min_samples_leaf=4, min_samples_split=17, n_estimators=600; total time=  12.2s\n",
      "[CV] END criterion=log_loss, max_depth=10, max_features=sqrt, min_samples_leaf=4, min_samples_split=17, n_estimators=600; total time=  12.1s\n",
      "[CV] END criterion=log_loss, max_depth=10, max_features=sqrt, min_samples_leaf=4, min_samples_split=17, n_estimators=700; total time=  16.8s\n",
      "[CV] END criterion=log_loss, max_depth=10, max_features=sqrt, min_samples_leaf=4, min_samples_split=17, n_estimators=700; total time=  14.5s\n",
      "[CV] END criterion=log_loss, max_depth=10, max_features=sqrt, min_samples_leaf=4, min_samples_split=17, n_estimators=700; total time=  14.2s\n",
      "[CV] END criterion=log_loss, max_depth=10, max_features=sqrt, min_samples_leaf=4, min_samples_split=17, n_estimators=800; total time=  16.2s\n",
      "[CV] END criterion=log_loss, max_depth=10, max_features=sqrt, min_samples_leaf=4, min_samples_split=17, n_estimators=800; total time=  16.6s\n",
      "[CV] END criterion=log_loss, max_depth=10, max_features=sqrt, min_samples_leaf=4, min_samples_split=17, n_estimators=800; total time=  17.9s\n",
      "[CV] END criterion=log_loss, max_depth=10, max_features=sqrt, min_samples_leaf=6, min_samples_split=13, n_estimators=400; total time=   8.4s\n",
      "[CV] END criterion=log_loss, max_depth=10, max_features=sqrt, min_samples_leaf=6, min_samples_split=13, n_estimators=400; total time=   7.9s\n",
      "[CV] END criterion=log_loss, max_depth=10, max_features=sqrt, min_samples_leaf=6, min_samples_split=13, n_estimators=400; total time=  12.2s\n",
      "[CV] END criterion=log_loss, max_depth=10, max_features=sqrt, min_samples_leaf=6, min_samples_split=13, n_estimators=500; total time=  12.0s\n",
      "[CV] END criterion=log_loss, max_depth=10, max_features=sqrt, min_samples_leaf=6, min_samples_split=13, n_estimators=500; total time=  10.0s\n",
      "[CV] END criterion=log_loss, max_depth=10, max_features=sqrt, min_samples_leaf=6, min_samples_split=13, n_estimators=500; total time=  10.0s\n",
      "[CV] END criterion=log_loss, max_depth=10, max_features=sqrt, min_samples_leaf=6, min_samples_split=13, n_estimators=600; total time=  12.0s\n",
      "[CV] END criterion=log_loss, max_depth=10, max_features=sqrt, min_samples_leaf=6, min_samples_split=13, n_estimators=600; total time=  12.0s\n",
      "[CV] END criterion=log_loss, max_depth=10, max_features=sqrt, min_samples_leaf=6, min_samples_split=13, n_estimators=600; total time=  12.5s\n",
      "[CV] END criterion=log_loss, max_depth=10, max_features=sqrt, min_samples_leaf=6, min_samples_split=13, n_estimators=700; total time=  13.8s\n",
      "[CV] END criterion=log_loss, max_depth=10, max_features=sqrt, min_samples_leaf=6, min_samples_split=13, n_estimators=700; total time=  14.1s\n",
      "[CV] END criterion=log_loss, max_depth=10, max_features=sqrt, min_samples_leaf=6, min_samples_split=13, n_estimators=700; total time=  14.0s\n",
      "[CV] END criterion=log_loss, max_depth=10, max_features=sqrt, min_samples_leaf=6, min_samples_split=13, n_estimators=800; total time=  16.1s\n",
      "[CV] END criterion=log_loss, max_depth=10, max_features=sqrt, min_samples_leaf=6, min_samples_split=13, n_estimators=800; total time=  16.1s\n",
      "[CV] END criterion=log_loss, max_depth=10, max_features=sqrt, min_samples_leaf=6, min_samples_split=13, n_estimators=800; total time=  16.3s\n",
      "[CV] END criterion=log_loss, max_depth=10, max_features=sqrt, min_samples_leaf=6, min_samples_split=14, n_estimators=400; total time=   9.3s\n",
      "[CV] END criterion=log_loss, max_depth=10, max_features=sqrt, min_samples_leaf=6, min_samples_split=14, n_estimators=400; total time=   9.3s\n",
      "[CV] END criterion=log_loss, max_depth=10, max_features=sqrt, min_samples_leaf=6, min_samples_split=14, n_estimators=400; total time=  10.0s\n",
      "[CV] END criterion=log_loss, max_depth=10, max_features=sqrt, min_samples_leaf=6, min_samples_split=14, n_estimators=500; total time=  11.1s\n",
      "[CV] END criterion=log_loss, max_depth=10, max_features=sqrt, min_samples_leaf=6, min_samples_split=14, n_estimators=500; total time=  10.1s\n",
      "[CV] END criterion=log_loss, max_depth=10, max_features=sqrt, min_samples_leaf=6, min_samples_split=14, n_estimators=500; total time=  10.3s\n",
      "[CV] END criterion=log_loss, max_depth=10, max_features=sqrt, min_samples_leaf=6, min_samples_split=14, n_estimators=600; total time=  12.6s\n",
      "[CV] END criterion=log_loss, max_depth=10, max_features=sqrt, min_samples_leaf=6, min_samples_split=14, n_estimators=600; total time=  12.3s\n",
      "[CV] END criterion=log_loss, max_depth=10, max_features=sqrt, min_samples_leaf=6, min_samples_split=14, n_estimators=600; total time=  12.8s\n",
      "[CV] END criterion=log_loss, max_depth=10, max_features=sqrt, min_samples_leaf=6, min_samples_split=14, n_estimators=700; total time=  25.1s\n",
      "[CV] END criterion=log_loss, max_depth=10, max_features=sqrt, min_samples_leaf=6, min_samples_split=14, n_estimators=700; total time=  13.8s\n"
     ]
    },
    {
     "name": "stdout",
     "output_type": "stream",
     "text": [
      "[CV] END criterion=log_loss, max_depth=10, max_features=sqrt, min_samples_leaf=6, min_samples_split=14, n_estimators=700; total time=  14.6s\n",
      "[CV] END criterion=log_loss, max_depth=10, max_features=sqrt, min_samples_leaf=6, min_samples_split=14, n_estimators=800; total time=  15.8s\n",
      "[CV] END criterion=log_loss, max_depth=10, max_features=sqrt, min_samples_leaf=6, min_samples_split=14, n_estimators=800; total time=  17.2s\n",
      "[CV] END criterion=log_loss, max_depth=10, max_features=sqrt, min_samples_leaf=6, min_samples_split=14, n_estimators=800; total time=  44.2s\n",
      "[CV] END criterion=log_loss, max_depth=10, max_features=sqrt, min_samples_leaf=6, min_samples_split=15, n_estimators=400; total time=  35.3s\n",
      "[CV] END criterion=log_loss, max_depth=10, max_features=sqrt, min_samples_leaf=6, min_samples_split=15, n_estimators=400; total time=  28.5s\n",
      "[CV] END criterion=log_loss, max_depth=10, max_features=sqrt, min_samples_leaf=6, min_samples_split=15, n_estimators=400; total time=  26.3s\n",
      "[CV] END criterion=log_loss, max_depth=10, max_features=sqrt, min_samples_leaf=6, min_samples_split=15, n_estimators=500; total time=  34.1s\n",
      "[CV] END criterion=log_loss, max_depth=10, max_features=sqrt, min_samples_leaf=6, min_samples_split=15, n_estimators=500; total time=  13.2s\n",
      "[CV] END criterion=log_loss, max_depth=10, max_features=sqrt, min_samples_leaf=6, min_samples_split=15, n_estimators=500; total time=  13.6s\n",
      "[CV] END criterion=log_loss, max_depth=10, max_features=sqrt, min_samples_leaf=6, min_samples_split=15, n_estimators=600; total time=  25.5s\n",
      "[CV] END criterion=log_loss, max_depth=10, max_features=sqrt, min_samples_leaf=6, min_samples_split=15, n_estimators=600; total time=  43.2s\n",
      "[CV] END criterion=log_loss, max_depth=10, max_features=sqrt, min_samples_leaf=6, min_samples_split=15, n_estimators=600; total time=  50.8s\n",
      "[CV] END criterion=log_loss, max_depth=10, max_features=sqrt, min_samples_leaf=6, min_samples_split=15, n_estimators=700; total time= 1.2min\n",
      "[CV] END criterion=log_loss, max_depth=10, max_features=sqrt, min_samples_leaf=6, min_samples_split=15, n_estimators=700; total time= 1.3min\n",
      "[CV] END criterion=log_loss, max_depth=10, max_features=sqrt, min_samples_leaf=6, min_samples_split=15, n_estimators=700; total time= 1.3min\n",
      "[CV] END criterion=log_loss, max_depth=10, max_features=sqrt, min_samples_leaf=6, min_samples_split=15, n_estimators=800; total time= 1.3min\n",
      "[CV] END criterion=log_loss, max_depth=10, max_features=sqrt, min_samples_leaf=6, min_samples_split=15, n_estimators=800; total time= 1.0min\n",
      "[CV] END criterion=log_loss, max_depth=10, max_features=sqrt, min_samples_leaf=6, min_samples_split=15, n_estimators=800; total time=  34.2s\n",
      "[CV] END criterion=log_loss, max_depth=10, max_features=sqrt, min_samples_leaf=6, min_samples_split=16, n_estimators=400; total time=  29.6s\n",
      "[CV] END criterion=log_loss, max_depth=10, max_features=sqrt, min_samples_leaf=6, min_samples_split=16, n_estimators=400; total time=  31.0s\n",
      "[CV] END criterion=log_loss, max_depth=10, max_features=sqrt, min_samples_leaf=6, min_samples_split=16, n_estimators=400; total time=  27.0s\n",
      "[CV] END criterion=log_loss, max_depth=10, max_features=sqrt, min_samples_leaf=6, min_samples_split=16, n_estimators=500; total time=  36.6s\n",
      "[CV] END criterion=log_loss, max_depth=10, max_features=sqrt, min_samples_leaf=6, min_samples_split=16, n_estimators=500; total time=  37.3s\n",
      "[CV] END criterion=log_loss, max_depth=10, max_features=sqrt, min_samples_leaf=6, min_samples_split=16, n_estimators=500; total time=  36.2s\n",
      "[CV] END criterion=log_loss, max_depth=10, max_features=sqrt, min_samples_leaf=6, min_samples_split=16, n_estimators=600; total time=  45.7s\n",
      "[CV] END criterion=log_loss, max_depth=10, max_features=sqrt, min_samples_leaf=6, min_samples_split=16, n_estimators=600; total time=  46.2s\n",
      "[CV] END criterion=log_loss, max_depth=10, max_features=sqrt, min_samples_leaf=6, min_samples_split=16, n_estimators=600; total time=  45.3s\n",
      "[CV] END criterion=log_loss, max_depth=10, max_features=sqrt, min_samples_leaf=6, min_samples_split=16, n_estimators=700; total time=  55.6s\n",
      "[CV] END criterion=log_loss, max_depth=10, max_features=sqrt, min_samples_leaf=6, min_samples_split=16, n_estimators=700; total time=  54.6s\n",
      "[CV] END criterion=log_loss, max_depth=10, max_features=sqrt, min_samples_leaf=6, min_samples_split=16, n_estimators=700; total time=  51.7s\n",
      "[CV] END criterion=log_loss, max_depth=10, max_features=sqrt, min_samples_leaf=6, min_samples_split=16, n_estimators=800; total time=  57.5s\n",
      "[CV] END criterion=log_loss, max_depth=10, max_features=sqrt, min_samples_leaf=6, min_samples_split=16, n_estimators=800; total time=  58.3s\n",
      "[CV] END criterion=log_loss, max_depth=10, max_features=sqrt, min_samples_leaf=6, min_samples_split=16, n_estimators=800; total time=  58.6s\n",
      "[CV] END criterion=log_loss, max_depth=10, max_features=sqrt, min_samples_leaf=6, min_samples_split=17, n_estimators=400; total time=  29.2s\n",
      "[CV] END criterion=log_loss, max_depth=10, max_features=sqrt, min_samples_leaf=6, min_samples_split=17, n_estimators=400; total time=  31.6s\n",
      "[CV] END criterion=log_loss, max_depth=10, max_features=sqrt, min_samples_leaf=6, min_samples_split=17, n_estimators=400; total time=  30.7s\n",
      "[CV] END criterion=log_loss, max_depth=10, max_features=sqrt, min_samples_leaf=6, min_samples_split=17, n_estimators=500; total time=  40.1s\n",
      "[CV] END criterion=log_loss, max_depth=10, max_features=sqrt, min_samples_leaf=6, min_samples_split=17, n_estimators=500; total time=  35.1s\n",
      "[CV] END criterion=log_loss, max_depth=10, max_features=sqrt, min_samples_leaf=6, min_samples_split=17, n_estimators=500; total time=  34.4s\n",
      "[CV] END criterion=log_loss, max_depth=10, max_features=sqrt, min_samples_leaf=6, min_samples_split=17, n_estimators=600; total time=  44.6s\n",
      "[CV] END criterion=log_loss, max_depth=10, max_features=sqrt, min_samples_leaf=6, min_samples_split=17, n_estimators=600; total time=  44.3s\n",
      "[CV] END criterion=log_loss, max_depth=10, max_features=sqrt, min_samples_leaf=6, min_samples_split=17, n_estimators=600; total time=  41.9s\n",
      "[CV] END criterion=log_loss, max_depth=10, max_features=sqrt, min_samples_leaf=6, min_samples_split=17, n_estimators=700; total time=  53.6s\n",
      "[CV] END criterion=log_loss, max_depth=10, max_features=sqrt, min_samples_leaf=6, min_samples_split=17, n_estimators=700; total time=  52.9s\n",
      "[CV] END criterion=log_loss, max_depth=10, max_features=sqrt, min_samples_leaf=6, min_samples_split=17, n_estimators=700; total time=  48.3s\n",
      "[CV] END criterion=log_loss, max_depth=10, max_features=sqrt, min_samples_leaf=6, min_samples_split=17, n_estimators=800; total time=  53.6s\n",
      "[CV] END criterion=log_loss, max_depth=10, max_features=sqrt, min_samples_leaf=6, min_samples_split=17, n_estimators=800; total time= 1.1min\n",
      "[CV] END criterion=log_loss, max_depth=10, max_features=sqrt, min_samples_leaf=6, min_samples_split=17, n_estimators=800; total time=  57.4s\n"
     ]
    },
    {
     "data": {
      "text/html": [
       "<style>#sk-container-id-8 {color: black;background-color: white;}#sk-container-id-8 pre{padding: 0;}#sk-container-id-8 div.sk-toggleable {background-color: white;}#sk-container-id-8 label.sk-toggleable__label {cursor: pointer;display: block;width: 100%;margin-bottom: 0;padding: 0.3em;box-sizing: border-box;text-align: center;}#sk-container-id-8 label.sk-toggleable__label-arrow:before {content: \"▸\";float: left;margin-right: 0.25em;color: #696969;}#sk-container-id-8 label.sk-toggleable__label-arrow:hover:before {color: black;}#sk-container-id-8 div.sk-estimator:hover label.sk-toggleable__label-arrow:before {color: black;}#sk-container-id-8 div.sk-toggleable__content {max-height: 0;max-width: 0;overflow: hidden;text-align: left;background-color: #f0f8ff;}#sk-container-id-8 div.sk-toggleable__content pre {margin: 0.2em;color: black;border-radius: 0.25em;background-color: #f0f8ff;}#sk-container-id-8 input.sk-toggleable__control:checked~div.sk-toggleable__content {max-height: 200px;max-width: 100%;overflow: auto;}#sk-container-id-8 input.sk-toggleable__control:checked~label.sk-toggleable__label-arrow:before {content: \"▾\";}#sk-container-id-8 div.sk-estimator input.sk-toggleable__control:checked~label.sk-toggleable__label {background-color: #d4ebff;}#sk-container-id-8 div.sk-label input.sk-toggleable__control:checked~label.sk-toggleable__label {background-color: #d4ebff;}#sk-container-id-8 input.sk-hidden--visually {border: 0;clip: rect(1px 1px 1px 1px);clip: rect(1px, 1px, 1px, 1px);height: 1px;margin: -1px;overflow: hidden;padding: 0;position: absolute;width: 1px;}#sk-container-id-8 div.sk-estimator {font-family: monospace;background-color: #f0f8ff;border: 1px dotted black;border-radius: 0.25em;box-sizing: border-box;margin-bottom: 0.5em;}#sk-container-id-8 div.sk-estimator:hover {background-color: #d4ebff;}#sk-container-id-8 div.sk-parallel-item::after {content: \"\";width: 100%;border-bottom: 1px solid gray;flex-grow: 1;}#sk-container-id-8 div.sk-label:hover label.sk-toggleable__label {background-color: #d4ebff;}#sk-container-id-8 div.sk-serial::before {content: \"\";position: absolute;border-left: 1px solid gray;box-sizing: border-box;top: 0;bottom: 0;left: 50%;z-index: 0;}#sk-container-id-8 div.sk-serial {display: flex;flex-direction: column;align-items: center;background-color: white;padding-right: 0.2em;padding-left: 0.2em;position: relative;}#sk-container-id-8 div.sk-item {position: relative;z-index: 1;}#sk-container-id-8 div.sk-parallel {display: flex;align-items: stretch;justify-content: center;background-color: white;position: relative;}#sk-container-id-8 div.sk-item::before, #sk-container-id-8 div.sk-parallel-item::before {content: \"\";position: absolute;border-left: 1px solid gray;box-sizing: border-box;top: 0;bottom: 0;left: 50%;z-index: -1;}#sk-container-id-8 div.sk-parallel-item {display: flex;flex-direction: column;z-index: 1;position: relative;background-color: white;}#sk-container-id-8 div.sk-parallel-item:first-child::after {align-self: flex-end;width: 50%;}#sk-container-id-8 div.sk-parallel-item:last-child::after {align-self: flex-start;width: 50%;}#sk-container-id-8 div.sk-parallel-item:only-child::after {width: 0;}#sk-container-id-8 div.sk-dashed-wrapped {border: 1px dashed gray;margin: 0 0.4em 0.5em 0.4em;box-sizing: border-box;padding-bottom: 0.4em;background-color: white;}#sk-container-id-8 div.sk-label label {font-family: monospace;font-weight: bold;display: inline-block;line-height: 1.2em;}#sk-container-id-8 div.sk-label-container {text-align: center;}#sk-container-id-8 div.sk-container {/* jupyter's `normalize.less` sets `[hidden] { display: none; }` but bootstrap.min.css set `[hidden] { display: none !important; }` so we also need the `!important` here to be able to override the default hidden behavior on the sphinx rendered scikit-learn.org. See: https://github.com/scikit-learn/scikit-learn/issues/21755 */display: inline-block !important;position: relative;}#sk-container-id-8 div.sk-text-repr-fallback {display: none;}</style><div id=\"sk-container-id-8\" class=\"sk-top-container\"><div class=\"sk-text-repr-fallback\"><pre>GridSearchCV(cv=3, estimator=RandomForestClassifier(), n_jobs=1,\n",
       "             param_grid={&#x27;criterion&#x27;: [&#x27;log_loss&#x27;], &#x27;max_depth&#x27;: [10],\n",
       "                         &#x27;max_features&#x27;: [&#x27;sqrt&#x27;],\n",
       "                         &#x27;min_samples_leaf&#x27;: [2, 4, 6],\n",
       "                         &#x27;min_samples_split&#x27;: [13, 14, 15, 16, 17],\n",
       "                         &#x27;n_estimators&#x27;: [400, 500, 600, 700, 800]},\n",
       "             verbose=2)</pre><b>In a Jupyter environment, please rerun this cell to show the HTML representation or trust the notebook. <br />On GitHub, the HTML representation is unable to render, please try loading this page with nbviewer.org.</b></div><div class=\"sk-container\" hidden><div class=\"sk-item sk-dashed-wrapped\"><div class=\"sk-label-container\"><div class=\"sk-label sk-toggleable\"><input class=\"sk-toggleable__control sk-hidden--visually\" id=\"sk-estimator-id-10\" type=\"checkbox\" ><label for=\"sk-estimator-id-10\" class=\"sk-toggleable__label sk-toggleable__label-arrow\">GridSearchCV</label><div class=\"sk-toggleable__content\"><pre>GridSearchCV(cv=3, estimator=RandomForestClassifier(), n_jobs=1,\n",
       "             param_grid={&#x27;criterion&#x27;: [&#x27;log_loss&#x27;], &#x27;max_depth&#x27;: [10],\n",
       "                         &#x27;max_features&#x27;: [&#x27;sqrt&#x27;],\n",
       "                         &#x27;min_samples_leaf&#x27;: [2, 4, 6],\n",
       "                         &#x27;min_samples_split&#x27;: [13, 14, 15, 16, 17],\n",
       "                         &#x27;n_estimators&#x27;: [400, 500, 600, 700, 800]},\n",
       "             verbose=2)</pre></div></div></div><div class=\"sk-parallel\"><div class=\"sk-parallel-item\"><div class=\"sk-item\"><div class=\"sk-label-container\"><div class=\"sk-label sk-toggleable\"><input class=\"sk-toggleable__control sk-hidden--visually\" id=\"sk-estimator-id-11\" type=\"checkbox\" ><label for=\"sk-estimator-id-11\" class=\"sk-toggleable__label sk-toggleable__label-arrow\">estimator: RandomForestClassifier</label><div class=\"sk-toggleable__content\"><pre>RandomForestClassifier()</pre></div></div></div><div class=\"sk-serial\"><div class=\"sk-item\"><div class=\"sk-estimator sk-toggleable\"><input class=\"sk-toggleable__control sk-hidden--visually\" id=\"sk-estimator-id-12\" type=\"checkbox\" ><label for=\"sk-estimator-id-12\" class=\"sk-toggleable__label sk-toggleable__label-arrow\">RandomForestClassifier</label><div class=\"sk-toggleable__content\"><pre>RandomForestClassifier()</pre></div></div></div></div></div></div></div></div></div></div>"
      ],
      "text/plain": [
       "GridSearchCV(cv=3, estimator=RandomForestClassifier(), n_jobs=1,\n",
       "             param_grid={'criterion': ['log_loss'], 'max_depth': [10],\n",
       "                         'max_features': ['sqrt'],\n",
       "                         'min_samples_leaf': [2, 4, 6],\n",
       "                         'min_samples_split': [13, 14, 15, 16, 17],\n",
       "                         'n_estimators': [400, 500, 600, 700, 800]},\n",
       "             verbose=2)"
      ]
     },
     "execution_count": 80,
     "metadata": {},
     "output_type": "execute_result"
    }
   ],
   "source": [
    "grid_search.fit(x_train , y_train)"
   ]
  },
  {
   "cell_type": "code",
   "execution_count": 81,
   "id": "af7c3716",
   "metadata": {},
   "outputs": [
    {
     "data": {
      "text/html": [
       "<style>#sk-container-id-9 {color: black;background-color: white;}#sk-container-id-9 pre{padding: 0;}#sk-container-id-9 div.sk-toggleable {background-color: white;}#sk-container-id-9 label.sk-toggleable__label {cursor: pointer;display: block;width: 100%;margin-bottom: 0;padding: 0.3em;box-sizing: border-box;text-align: center;}#sk-container-id-9 label.sk-toggleable__label-arrow:before {content: \"▸\";float: left;margin-right: 0.25em;color: #696969;}#sk-container-id-9 label.sk-toggleable__label-arrow:hover:before {color: black;}#sk-container-id-9 div.sk-estimator:hover label.sk-toggleable__label-arrow:before {color: black;}#sk-container-id-9 div.sk-toggleable__content {max-height: 0;max-width: 0;overflow: hidden;text-align: left;background-color: #f0f8ff;}#sk-container-id-9 div.sk-toggleable__content pre {margin: 0.2em;color: black;border-radius: 0.25em;background-color: #f0f8ff;}#sk-container-id-9 input.sk-toggleable__control:checked~div.sk-toggleable__content {max-height: 200px;max-width: 100%;overflow: auto;}#sk-container-id-9 input.sk-toggleable__control:checked~label.sk-toggleable__label-arrow:before {content: \"▾\";}#sk-container-id-9 div.sk-estimator input.sk-toggleable__control:checked~label.sk-toggleable__label {background-color: #d4ebff;}#sk-container-id-9 div.sk-label input.sk-toggleable__control:checked~label.sk-toggleable__label {background-color: #d4ebff;}#sk-container-id-9 input.sk-hidden--visually {border: 0;clip: rect(1px 1px 1px 1px);clip: rect(1px, 1px, 1px, 1px);height: 1px;margin: -1px;overflow: hidden;padding: 0;position: absolute;width: 1px;}#sk-container-id-9 div.sk-estimator {font-family: monospace;background-color: #f0f8ff;border: 1px dotted black;border-radius: 0.25em;box-sizing: border-box;margin-bottom: 0.5em;}#sk-container-id-9 div.sk-estimator:hover {background-color: #d4ebff;}#sk-container-id-9 div.sk-parallel-item::after {content: \"\";width: 100%;border-bottom: 1px solid gray;flex-grow: 1;}#sk-container-id-9 div.sk-label:hover label.sk-toggleable__label {background-color: #d4ebff;}#sk-container-id-9 div.sk-serial::before {content: \"\";position: absolute;border-left: 1px solid gray;box-sizing: border-box;top: 0;bottom: 0;left: 50%;z-index: 0;}#sk-container-id-9 div.sk-serial {display: flex;flex-direction: column;align-items: center;background-color: white;padding-right: 0.2em;padding-left: 0.2em;position: relative;}#sk-container-id-9 div.sk-item {position: relative;z-index: 1;}#sk-container-id-9 div.sk-parallel {display: flex;align-items: stretch;justify-content: center;background-color: white;position: relative;}#sk-container-id-9 div.sk-item::before, #sk-container-id-9 div.sk-parallel-item::before {content: \"\";position: absolute;border-left: 1px solid gray;box-sizing: border-box;top: 0;bottom: 0;left: 50%;z-index: -1;}#sk-container-id-9 div.sk-parallel-item {display: flex;flex-direction: column;z-index: 1;position: relative;background-color: white;}#sk-container-id-9 div.sk-parallel-item:first-child::after {align-self: flex-end;width: 50%;}#sk-container-id-9 div.sk-parallel-item:last-child::after {align-self: flex-start;width: 50%;}#sk-container-id-9 div.sk-parallel-item:only-child::after {width: 0;}#sk-container-id-9 div.sk-dashed-wrapped {border: 1px dashed gray;margin: 0 0.4em 0.5em 0.4em;box-sizing: border-box;padding-bottom: 0.4em;background-color: white;}#sk-container-id-9 div.sk-label label {font-family: monospace;font-weight: bold;display: inline-block;line-height: 1.2em;}#sk-container-id-9 div.sk-label-container {text-align: center;}#sk-container-id-9 div.sk-container {/* jupyter's `normalize.less` sets `[hidden] { display: none; }` but bootstrap.min.css set `[hidden] { display: none !important; }` so we also need the `!important` here to be able to override the default hidden behavior on the sphinx rendered scikit-learn.org. See: https://github.com/scikit-learn/scikit-learn/issues/21755 */display: inline-block !important;position: relative;}#sk-container-id-9 div.sk-text-repr-fallback {display: none;}</style><div id=\"sk-container-id-9\" class=\"sk-top-container\"><div class=\"sk-text-repr-fallback\"><pre>RandomForestClassifier(criterion=&#x27;log_loss&#x27;, max_depth=10, min_samples_leaf=6,\n",
       "                       min_samples_split=13, n_estimators=700)</pre><b>In a Jupyter environment, please rerun this cell to show the HTML representation or trust the notebook. <br />On GitHub, the HTML representation is unable to render, please try loading this page with nbviewer.org.</b></div><div class=\"sk-container\" hidden><div class=\"sk-item\"><div class=\"sk-estimator sk-toggleable\"><input class=\"sk-toggleable__control sk-hidden--visually\" id=\"sk-estimator-id-13\" type=\"checkbox\" checked><label for=\"sk-estimator-id-13\" class=\"sk-toggleable__label sk-toggleable__label-arrow\">RandomForestClassifier</label><div class=\"sk-toggleable__content\"><pre>RandomForestClassifier(criterion=&#x27;log_loss&#x27;, max_depth=10, min_samples_leaf=6,\n",
       "                       min_samples_split=13, n_estimators=700)</pre></div></div></div></div></div>"
      ],
      "text/plain": [
       "RandomForestClassifier(criterion='log_loss', max_depth=10, min_samples_leaf=6,\n",
       "                       min_samples_split=13, n_estimators=700)"
      ]
     },
     "execution_count": 81,
     "metadata": {},
     "output_type": "execute_result"
    }
   ],
   "source": [
    "grid_search.best_estimator_"
   ]
  },
  {
   "cell_type": "code",
   "execution_count": 82,
   "id": "b0ad31e7",
   "metadata": {},
   "outputs": [
    {
     "data": {
      "text/plain": [
       "{'criterion': 'log_loss',\n",
       " 'max_depth': 10,\n",
       " 'max_features': 'sqrt',\n",
       " 'min_samples_leaf': 6,\n",
       " 'min_samples_split': 13,\n",
       " 'n_estimators': 700}"
      ]
     },
     "execution_count": 82,
     "metadata": {},
     "output_type": "execute_result"
    }
   ],
   "source": [
    "grid_search.best_params_"
   ]
  },
  {
   "cell_type": "code",
   "execution_count": 83,
   "id": "7d20d2c7",
   "metadata": {},
   "outputs": [],
   "source": [
    "best_grid = grid_search.best_estimator_"
   ]
  },
  {
   "cell_type": "code",
   "execution_count": 84,
   "id": "7bdb0e86",
   "metadata": {},
   "outputs": [],
   "source": [
    "y_pred = best_grid.predict(x_test)"
   ]
  },
  {
   "cell_type": "code",
   "execution_count": 85,
   "id": "d5514d7d",
   "metadata": {},
   "outputs": [
    {
     "name": "stdout",
     "output_type": "stream",
     "text": [
      "[[6921  486]\n",
      " [1141 1221]]\n",
      "0.8334527587265841\n",
      "              precision    recall  f1-score   support\n",
      "\n",
      "           0       0.86      0.93      0.89      7407\n",
      "           1       0.72      0.52      0.60      2362\n",
      "\n",
      "    accuracy                           0.83      9769\n",
      "   macro avg       0.79      0.73      0.75      9769\n",
      "weighted avg       0.82      0.83      0.82      9769\n",
      "\n"
     ]
    }
   ],
   "source": [
    "print(confusion_matrix(y_test , y_pred))\n",
    "print(accuracy_score(y_test , y_pred))\n",
    "print(classification_report(y_test , y_pred))"
   ]
  },
  {
   "cell_type": "code",
   "execution_count": 86,
   "id": "00318209",
   "metadata": {},
   "outputs": [],
   "source": [
    "import pickle"
   ]
  },
  {
   "cell_type": "code",
   "execution_count": 87,
   "id": "43e3314a",
   "metadata": {},
   "outputs": [],
   "source": [
    "# open a file to store a model\n",
    "file = open(\"random_forest.pkl\", \"wb\")\n",
    "\n",
    "pickle.dump(rf_randomcv , file)"
   ]
  },
  {
   "cell_type": "code",
   "execution_count": 88,
   "id": "5c1692b8",
   "metadata": {},
   "outputs": [],
   "source": [
    "scaling = open(\"scaling.pkl\",\"wb\")\n",
    "\n",
    "pickle.dump(scaler, scaling)"
   ]
  },
  {
   "cell_type": "code",
   "execution_count": null,
   "id": "257d7af0",
   "metadata": {},
   "outputs": [],
   "source": []
  }
 ],
 "metadata": {
  "kernelspec": {
   "display_name": "Python 3 (ipykernel)",
   "language": "python",
   "name": "python3"
  },
  "language_info": {
   "codemirror_mode": {
    "name": "ipython",
    "version": 3
   },
   "file_extension": ".py",
   "mimetype": "text/x-python",
   "name": "python",
   "nbconvert_exporter": "python",
   "pygments_lexer": "ipython3",
   "version": "3.10.2"
  }
 },
 "nbformat": 4,
 "nbformat_minor": 5
}
